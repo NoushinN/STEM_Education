{
 "cells": [
  {
   "cell_type": "markdown",
   "metadata": {},
   "source": [
    "# Installing Anaconda and libraries \n",
    "\n",
    "- Download and install Anaconda: https://anaconda.com/download   \n",
    "Already includes Numpy, scipy, matplotlib, pandas, SKLearn, NLTK, theano\n",
    "\n",
    "- Install deep learning libraries   \n",
    "e.g. pip intall tensorflow\n",
    "pip install keras\n",
    "pip intall http://cntk.ai/...whl\n",
    "If the pip install library isn't available, then pip install with website url ending with whl  \n",
    "conda install -c peterkc123 pytorch\n",
    "conda install theano [pygpu]\n",
    "- open AI Gym (reinforcement learning).       \n",
    "pip install gym\n",
    "- Can also conda install git.   \n"
   ]
  },
  {
   "cell_type": "markdown",
   "metadata": {},
   "source": [
    "## Python install\n",
    "\n",
    "Python 3.6 is newer (10 years old: 2008) but python 2.7 still has some capabilities  \n",
    "Always git pull to get the latest version    "
   ]
  },
  {
   "cell_type": "markdown",
   "metadata": {},
   "source": [
    "## Setting up developing environments to operate python\n",
    "For more information, please consult with https://lazyprogrammer.me and more lessons here: https://github.com/lazyprogrammer/machine_learning_examples"
   ]
  },
  {
   "cell_type": "code",
   "execution_count": null,
   "metadata": {},
   "outputs": [],
   "source": []
  }
 ],
 "metadata": {
  "kernelspec": {
   "display_name": "Python 3",
   "language": "python",
   "name": "python3"
  },
  "language_info": {
   "codemirror_mode": {
    "name": "ipython",
    "version": 3
   },
   "file_extension": ".py",
   "mimetype": "text/x-python",
   "name": "python",
   "nbconvert_exporter": "python",
   "pygments_lexer": "ipython3",
   "version": "3.7.2"
  }
 },
 "nbformat": 4,
 "nbformat_minor": 2
}
