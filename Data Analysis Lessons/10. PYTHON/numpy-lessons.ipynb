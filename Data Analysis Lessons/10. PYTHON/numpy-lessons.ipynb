{
 "cells": [
  {
   "cell_type": "markdown",
   "metadata": {},
   "source": [
    "# Python lesson plans"
   ]
  },
  {
   "cell_type": "markdown",
   "metadata": {},
   "source": [
    "**Goal:** writing efficient _Python_ code with a focus on readability and usage of Python's constructs as intended (i.e. pythonic code)"
   ]
  },
  {
   "cell_type": "markdown",
   "metadata": {},
   "source": [
    "**The Zen of Python:** (by Tim Peters)\n",
    "- beautiful is better than ugly\n",
    "- explicit is better than implicit \n",
    "- simple is better than complex\n",
    "- complex is better than complicated\n",
    "- flat is better than nested\n",
    "- sparse is better than dense\n",
    "- readability counts\n",
    "- special cases aren't special enough to break the rules\n",
    "- practicality beats purity\n",
    "- errors should never pass silently unless explicitly silenced\n",
    "- in the face of ambiguity, refuse the temptation to guess\n"
   ]
  },
  {
   "cell_type": "markdown",
   "metadata": {},
   "source": [
    "Variable assignment conventions: \n",
    "- Not permitted: variables cannot start with numbers, can't use operators, spaces, slash, ., ?, !, $, #\n",
    "- Permitted: letters, digits only after letters, underscores"
   ]
  },
  {
   "cell_type": "code",
   "execution_count": 1,
   "metadata": {},
   "outputs": [],
   "source": [
    "var = 2 # variables sart with lower letter"
   ]
  },
  {
   "cell_type": "code",
   "execution_count": 2,
   "metadata": {},
   "outputs": [
    {
     "data": {
      "text/plain": [
       "2"
      ]
     },
     "execution_count": 2,
     "metadata": {},
     "output_type": "execute_result"
    }
   ],
   "source": [
    "var"
   ]
  },
  {
   "cell_type": "code",
   "execution_count": 3,
   "metadata": {},
   "outputs": [],
   "source": [
    "Array1 = [1,2,3] #array list"
   ]
  },
  {
   "cell_type": "code",
   "execution_count": 4,
   "metadata": {},
   "outputs": [
    {
     "data": {
      "text/plain": [
       "[1, 2, 3]"
      ]
     },
     "execution_count": 4,
     "metadata": {},
     "output_type": "execute_result"
    }
   ],
   "source": [
    "Array1"
   ]
  },
  {
   "cell_type": "code",
   "execution_count": 5,
   "metadata": {},
   "outputs": [
    {
     "data": {
      "text/plain": [
       "[1, 2, 3, 1, 2, 3]"
      ]
     },
     "execution_count": 5,
     "metadata": {},
     "output_type": "execute_result"
    }
   ],
   "source": [
    "2*Array1"
   ]
  },
  {
   "cell_type": "code",
   "execution_count": 6,
   "metadata": {},
   "outputs": [],
   "source": [
    "Array2 = ([1,2],[3,4])"
   ]
  },
  {
   "cell_type": "code",
   "execution_count": 7,
   "metadata": {},
   "outputs": [
    {
     "data": {
      "text/plain": [
       "([1, 2], [3, 4])"
      ]
     },
     "execution_count": 7,
     "metadata": {},
     "output_type": "execute_result"
    }
   ],
   "source": [
    "Array2"
   ]
  },
  {
   "cell_type": "code",
   "execution_count": 8,
   "metadata": {},
   "outputs": [
    {
     "data": {
      "text/plain": [
       "([1, 2], [3, 4], [1, 2], [3, 4])"
      ]
     },
     "execution_count": 8,
     "metadata": {},
     "output_type": "execute_result"
    }
   ],
   "source": [
    "Array2 + Array2"
   ]
  },
  {
   "cell_type": "code",
   "execution_count": 9,
   "metadata": {},
   "outputs": [],
   "source": [
    "A_B = 1"
   ]
  },
  {
   "cell_type": "code",
   "execution_count": 10,
   "metadata": {},
   "outputs": [
    {
     "data": {
      "text/plain": [
       "1"
      ]
     },
     "execution_count": 10,
     "metadata": {},
     "output_type": "execute_result"
    }
   ],
   "source": [
    "A_B"
   ]
  },
  {
   "cell_type": "raw",
   "metadata": {},
   "source": [
    "family_member_names = [] #kebab case\n",
    "print(family_member_names)"
   ]
  },
  {
   "cell_type": "markdown",
   "metadata": {},
   "source": [
    "Conditional statement conventions: \n",
    "- If else do not go into paranthesis, curly brackets or square brackes are not used\n",
    "- Note spaces and indentations "
   ]
  },
  {
   "cell_type": "code",
   "execution_count": 11,
   "metadata": {},
   "outputs": [
    {
     "name": "stdout",
     "output_type": "stream",
     "text": [
      "var is not 1\n"
     ]
    }
   ],
   "source": [
    "if var == 1: \n",
    "    print(\"var is 1\")\n",
    "else : \n",
    "    print(\"var is not 1\")\n",
    "    "
   ]
  },
  {
   "cell_type": "code",
   "execution_count": 12,
   "metadata": {},
   "outputs": [
    {
     "name": "stdout",
     "output_type": "stream",
     "text": [
      "['George']\n"
     ]
    }
   ],
   "source": [
    "names = ['Jerry', 'Tom', 'Hardy', 'George']\n",
    "\n",
    "better_list = []\n",
    "for name in names:\n",
    "    if len(name) >= 6:\n",
    "        better_list.append(name)\n",
    "print(better_list)"
   ]
  },
  {
   "cell_type": "code",
   "execution_count": 13,
   "metadata": {},
   "outputs": [
    {
     "name": "stdout",
     "output_type": "stream",
     "text": [
      "1\n",
      "2\n",
      "3\n",
      "1, 2, 3\n"
     ]
    }
   ],
   "source": [
    "print (\"1\")\n",
    "print (\"2\")\n",
    "print (\"3\")\n",
    "print (\"1, 2, 3\")"
   ]
  },
  {
   "cell_type": "code",
   "execution_count": 14,
   "metadata": {},
   "outputs": [
    {
     "name": "stdout",
     "output_type": "stream",
     "text": [
      "1, 2, 3\n"
     ]
    }
   ],
   "source": [
    "print (\"1, 2, 3\")"
   ]
  },
  {
   "cell_type": "markdown",
   "metadata": {},
   "source": [
    "For loop conventions:  \n",
    "- for is a keyword among a few others in python\n",
    "- explore arrays using 'for' loops or 'while'"
   ]
  },
  {
   "cell_type": "code",
   "execution_count": 15,
   "metadata": {},
   "outputs": [
    {
     "name": "stdout",
     "output_type": "stream",
     "text": [
      "1\n",
      "2\n",
      "3\n"
     ]
    }
   ],
   "source": [
    "for i in Array1:\n",
    "    print(i)\n",
    "    "
   ]
  },
  {
   "cell_type": "code",
   "execution_count": 16,
   "metadata": {
    "scrolled": true
   },
   "outputs": [
    {
     "name": "stdout",
     "output_type": "stream",
     "text": [
      "15\n",
      "14\n",
      "13\n",
      "12\n",
      "11\n"
     ]
    }
   ],
   "source": [
    "i = 15\n",
    "while i>10:\n",
    "    print(i)\n",
    "    i = i-1\n",
    "    "
   ]
  },
  {
   "cell_type": "markdown",
   "metadata": {},
   "source": [
    "_Note 1:_ Loops can be costly and inefficient. The goal is to reduce the number or usage of loops and while, and instead iterate over arrays using **map()** or use **numpy** arrays to perform calculations on all arrays all at once (e.g. np.mean, np.array, etc).\n",
    "\n",
    "_Note 2:_ Loops can be modified to write better loops by understanding what is being done with each loop iteration. \n",
    "- If a calculation is done one time, move it outside or above the loop.  \n",
    "- Use holistic conversions outside or below the loop.   "
   ]
  },
  {
   "cell_type": "markdown",
   "metadata": {},
   "source": [
    "# Control flow and functions\n",
    "- Use def to define the functions \n",
    "- Starts with indentation, and can get from zero to infinite number of arguments  \n",
    "- Arguments can have names, or default values  \n",
    "- Functions can have a `side effect(s)` and/or have `return value(s)` \n",
    "- Can use while, for, and if else conditionals"
   ]
  },
  {
   "cell_type": "code",
   "execution_count": 1,
   "metadata": {},
   "outputs": [],
   "source": [
    "# this is an example of a function with return values\n",
    "def double_me(what_to_double):\n",
    "    print(what_to_double)\n",
    "    return what_to_double * 2 "
   ]
  },
  {
   "cell_type": "code",
   "execution_count": 2,
   "metadata": {},
   "outputs": [
    {
     "name": "stdout",
     "output_type": "stream",
     "text": [
      "2\n"
     ]
    },
    {
     "data": {
      "text/plain": [
       "4"
      ]
     },
     "execution_count": 2,
     "metadata": {},
     "output_type": "execute_result"
    }
   ],
   "source": [
    "double_me(2) #out comment from jupyter shows that this operation has a return value"
   ]
  },
  {
   "cell_type": "code",
   "execution_count": 3,
   "metadata": {},
   "outputs": [],
   "source": [
    "# this is an example of a function with side effects\n",
    "def print_me(what_to_print, what_to_print_next): \n",
    "    print(what_to_print)\n",
    "    print(what_to_print_next)"
   ]
  },
  {
   "cell_type": "code",
   "execution_count": 4,
   "metadata": {},
   "outputs": [
    {
     "name": "stdout",
     "output_type": "stream",
     "text": [
      "me\n",
      "you\n",
      "cat\n",
      "dog\n",
      "mouse\n",
      "1\n"
     ]
    }
   ],
   "source": [
    "print_me(\"me\", \"you\") #me, cat, mouse... are string literal\n",
    "print_me(\"cat\", \"dog\")\n",
    "print_me(\"mouse\", 1)\n"
   ]
  },
  {
   "cell_type": "code",
   "execution_count": 5,
   "metadata": {},
   "outputs": [],
   "source": [
    "# can assign a different name to function\n",
    "shadow_print_me = print_me"
   ]
  },
  {
   "cell_type": "code",
   "execution_count": 8,
   "metadata": {},
   "outputs": [
    {
     "name": "stdout",
     "output_type": "stream",
     "text": [
      "1\n",
      "2\n"
     ]
    }
   ],
   "source": [
    "shadow_print_me(1,2)"
   ]
  },
  {
   "cell_type": "markdown",
   "metadata": {},
   "source": [
    "# Data Structures\n",
    "- classes have members or properties (e.g. family_one is an object/instance/member of the class)\n",
    "- functions and classes can be combined (cross-talk between classes and functions): when functions are in a class, they are called methods (i.e. the first parameters are always the classes)\n",
    "- the first name for methods are normally self (i.e. family_three.calculate_tax())\n",
    "- object oriented programming performs encapsulation by using class\n",
    "- another advantage of object oriented programming is polymorphism\n",
    "\n",
    "Other data structures:\n",
    "- non-structured dataset\n",
    "- structured datasets\n"
   ]
  },
  {
   "cell_type": "code",
   "execution_count": 26,
   "metadata": {},
   "outputs": [],
   "source": [
    "class bc_family:\n",
    "    member_count = 0\n",
    "    postal_code = \"\"\n",
    "    total_income = 100\n",
    "\n",
    "    def calculate_tax(self):\n",
    "        return (self.total_income / self.member_count) * 0.2"
   ]
  },
  {
   "cell_type": "code",
   "execution_count": 27,
   "metadata": {},
   "outputs": [],
   "source": [
    "family_one = bc_family()"
   ]
  },
  {
   "cell_type": "code",
   "execution_count": 28,
   "metadata": {},
   "outputs": [],
   "source": [
    "family_two = bc_family()"
   ]
  },
  {
   "cell_type": "code",
   "execution_count": 29,
   "metadata": {},
   "outputs": [],
   "source": [
    "family_three = bc_family()"
   ]
  },
  {
   "cell_type": "code",
   "execution_count": 30,
   "metadata": {},
   "outputs": [],
   "source": [
    "family_one.member_count = 5 "
   ]
  },
  {
   "cell_type": "code",
   "execution_count": 31,
   "metadata": {},
   "outputs": [],
   "source": [
    "family_two.member_count = 2"
   ]
  },
  {
   "cell_type": "code",
   "execution_count": 32,
   "metadata": {},
   "outputs": [],
   "source": [
    "family_three.member_count = 4"
   ]
  },
  {
   "cell_type": "code",
   "execution_count": 33,
   "metadata": {},
   "outputs": [],
   "source": [
    "family_one.total_income = 100000"
   ]
  },
  {
   "cell_type": "code",
   "execution_count": 34,
   "metadata": {},
   "outputs": [],
   "source": [
    "family_two.total_income = 50000"
   ]
  },
  {
   "cell_type": "code",
   "execution_count": 35,
   "metadata": {},
   "outputs": [],
   "source": [
    "family_three.total_income = 150000"
   ]
  },
  {
   "cell_type": "code",
   "execution_count": 36,
   "metadata": {
    "scrolled": true
   },
   "outputs": [
    {
     "data": {
      "text/plain": [
       "<__main__.bc_family at 0x119ccf630>"
      ]
     },
     "execution_count": 36,
     "metadata": {},
     "output_type": "execute_result"
    }
   ],
   "source": [
    "family_one"
   ]
  },
  {
   "cell_type": "code",
   "execution_count": 37,
   "metadata": {},
   "outputs": [
    {
     "data": {
      "text/plain": [
       "<__main__.bc_family at 0x119dcbc18>"
      ]
     },
     "execution_count": 37,
     "metadata": {},
     "output_type": "execute_result"
    }
   ],
   "source": [
    "family_two"
   ]
  },
  {
   "cell_type": "code",
   "execution_count": 16,
   "metadata": {},
   "outputs": [],
   "source": [
    "def calculate_tax(family):\n",
    "    return (family.total_income / family.member_count) * 0.2"
   ]
  },
  {
   "cell_type": "code",
   "execution_count": 17,
   "metadata": {},
   "outputs": [
    {
     "data": {
      "text/plain": [
       "4000.0"
      ]
     },
     "execution_count": 17,
     "metadata": {},
     "output_type": "execute_result"
    }
   ],
   "source": [
    "calculate_tax(family_one)"
   ]
  },
  {
   "cell_type": "code",
   "execution_count": 18,
   "metadata": {},
   "outputs": [
    {
     "data": {
      "text/plain": [
       "5000.0"
      ]
     },
     "execution_count": 18,
     "metadata": {},
     "output_type": "execute_result"
    }
   ],
   "source": [
    "calculate_tax(family_two)"
   ]
  },
  {
   "cell_type": "code",
   "execution_count": 19,
   "metadata": {},
   "outputs": [
    {
     "data": {
      "text/plain": [
       "7500.0"
      ]
     },
     "execution_count": 19,
     "metadata": {},
     "output_type": "execute_result"
    }
   ],
   "source": [
    "calculate_tax(family_three)"
   ]
  },
  {
   "cell_type": "code",
   "execution_count": 25,
   "metadata": {},
   "outputs": [
    {
     "data": {
      "text/plain": [
       "__main__.bc_family"
      ]
     },
     "execution_count": 25,
     "metadata": {},
     "output_type": "execute_result"
    }
   ],
   "source": [
    "bc_family"
   ]
  },
  {
   "cell_type": "code",
   "execution_count": 38,
   "metadata": {},
   "outputs": [
    {
     "data": {
      "text/plain": [
       "4000.0"
      ]
     },
     "execution_count": 38,
     "metadata": {},
     "output_type": "execute_result"
    }
   ],
   "source": [
    "family_one.calculate_tax()"
   ]
  },
  {
   "cell_type": "code",
   "execution_count": 39,
   "metadata": {},
   "outputs": [
    {
     "data": {
      "text/plain": [
       "5000.0"
      ]
     },
     "execution_count": 39,
     "metadata": {},
     "output_type": "execute_result"
    }
   ],
   "source": [
    "family_two.calculate_tax()"
   ]
  },
  {
   "cell_type": "code",
   "execution_count": 40,
   "metadata": {},
   "outputs": [
    {
     "data": {
      "text/plain": [
       "7500.0"
      ]
     },
     "execution_count": 40,
     "metadata": {},
     "output_type": "execute_result"
    }
   ],
   "source": [
    "family_three.calculate_tax()"
   ]
  },
  {
   "cell_type": "markdown",
   "metadata": {},
   "source": [
    "# Python standard library and built-in functions:\n",
    "- Built-in types include: list, tuple, set, dict\n",
    "- Built-in functions include: print(), len(), range(), round(), enumerate(), map(), zip(), and others   \n",
    "-- shorthand syntax for list is [], for dict is {}, and for tuple is ()\n",
    "- Built-in modules: os, sys, itertools, collections, math, and others"
   ]
  },
  {
   "cell_type": "code",
   "execution_count": 45,
   "metadata": {},
   "outputs": [
    {
     "name": "stdout",
     "output_type": "stream",
     "text": [
      "[]\n",
      "[]\n",
      "<class 'list'>\n"
     ]
    }
   ],
   "source": [
    "# Create a list using the formal name\n",
    "formal_list = list()\n",
    "print(formal_list)\n",
    "\n",
    "# Create a list using the literal syntax\n",
    "literal_list = []\n",
    "print(literal_list)\n",
    "\n",
    "# Print out the type of formal_list\n",
    "print(type(formal_list))"
   ]
  },
  {
   "cell_type": "code",
   "execution_count": 46,
   "metadata": {},
   "outputs": [
    {
     "name": "stdout",
     "output_type": "stream",
     "text": [
      "range(1, 10)\n"
     ]
    }
   ],
   "source": [
    "nums = range(1,10) #use range to create a list\n",
    "print(nums)"
   ]
  },
  {
   "cell_type": "code",
   "execution_count": 47,
   "metadata": {},
   "outputs": [
    {
     "name": "stdout",
     "output_type": "stream",
     "text": [
      "[0, 1, 2, 3, 4, 5, 6, 7, 8, 9, 10, 11, 12, 13, 14, 15, 16, 17, 18, 19, 20, 21, 22, 23, 24, 25, 26, 27, 28, 29, 30, 31, 32, 33, 34, 35, 36, 37, 38, 39, 40, 41, 42, 43, 44, 45, 46, 47, 48, 49, 50]\n"
     ]
    }
   ],
   "source": [
    "# Create a list of integers (0-50) using list comprehension\n",
    "nums_list_comp = [num for num in range(51)]\n",
    "print(nums_list_comp)"
   ]
  },
  {
   "cell_type": "code",
   "execution_count": 48,
   "metadata": {},
   "outputs": [
    {
     "name": "stdout",
     "output_type": "stream",
     "text": [
      "[0, 1, 2, 3, 4, 5, 6, 7, 8, 9, 10, 11, 12, 13, 14, 15, 16, 17, 18, 19, 20, 21, 22, 23, 24, 25, 26, 27, 28, 29, 30, 31, 32, 33, 34, 35, 36, 37, 38, 39, 40, 41, 42, 43, 44, 45, 46, 47, 48, 49, 50]\n"
     ]
    }
   ],
   "source": [
    "# Create a list of integers (0-50) by unpacking range\n",
    "nums_unpack = [*range(51)]\n",
    "print(nums_unpack)"
   ]
  },
  {
   "cell_type": "code",
   "execution_count": 49,
   "metadata": {},
   "outputs": [
    {
     "data": {
      "text/plain": [
       "[1, 2, 3, 4, 5, 6, 7, 8, 9]"
      ]
     },
     "execution_count": 49,
     "metadata": {},
     "output_type": "execute_result"
    }
   ],
   "source": [
    "list(nums)"
   ]
  },
  {
   "cell_type": "code",
   "execution_count": 50,
   "metadata": {},
   "outputs": [
    {
     "name": "stdout",
     "output_type": "stream",
     "text": [
      "[2, 4, 6, 8, 10]\n"
     ]
    }
   ],
   "source": [
    "even_nums = range(2,11,2) \n",
    "print(list(even_nums))"
   ]
  },
  {
   "cell_type": "code",
   "execution_count": 51,
   "metadata": {},
   "outputs": [
    {
     "name": "stdout",
     "output_type": "stream",
     "text": [
      "[(0, 'a'), (1, 'z'), (2, 'x'), (3, 'b')]\n"
     ]
    }
   ],
   "source": [
    "letters = ['a', 'z', 'x', 'b']\n",
    "index_letters = enumerate(letters) #create an indexed list of objects\n",
    "print(list(index_letters))\n"
   ]
  },
  {
   "cell_type": "code",
   "execution_count": 52,
   "metadata": {},
   "outputs": [
    {
     "name": "stdout",
     "output_type": "stream",
     "text": [
      "<class 'zip'>\n",
      "[('a', 40), ('z', 45), ('x', 50), ('b', 55)]\n"
     ]
    }
   ],
   "source": [
    "# another way of combining objects are with zip\n",
    "names = ['a', 'z', 'x', 'b']\n",
    "numbers = [40, 45, 50, 55]\n",
    "combine_names_numbers = zip(names, numbers)\n",
    "print(type(combine_names_numbers))\n",
    "\n",
    "combine_names_numbers_list = [*combine_names_numbers] #each item is a tuple of the lists\n",
    "print(combine_names_numbers_list)"
   ]
  },
  {
   "cell_type": "code",
   "execution_count": 53,
   "metadata": {},
   "outputs": [],
   "source": [
    "# can also make combos using a function without side-effects\n",
    "names = ['a', 'z', 'x', 'b']\n",
    "numbers = ['1', '2', '3', '4']\n",
    "\n",
    "def combo(name, num):\n",
    "    result = [] \n",
    "    for x in name:\n",
    "        for y in num:\n",
    "            result.append((x,y))\n",
    "            result.append((y,x))\n",
    "    return result"
   ]
  },
  {
   "cell_type": "code",
   "execution_count": 40,
   "metadata": {},
   "outputs": [
    {
     "data": {
      "text/plain": [
       "[('a', '1'),\n",
       " ('1', 'a'),\n",
       " ('a', '2'),\n",
       " ('2', 'a'),\n",
       " ('a', '3'),\n",
       " ('3', 'a'),\n",
       " ('a', '4'),\n",
       " ('4', 'a'),\n",
       " ('z', '1'),\n",
       " ('1', 'z'),\n",
       " ('z', '2'),\n",
       " ('2', 'z'),\n",
       " ('z', '3'),\n",
       " ('3', 'z'),\n",
       " ('z', '4'),\n",
       " ('4', 'z'),\n",
       " ('x', '1'),\n",
       " ('1', 'x'),\n",
       " ('x', '2'),\n",
       " ('2', 'x'),\n",
       " ('x', '3'),\n",
       " ('3', 'x'),\n",
       " ('x', '4'),\n",
       " ('4', 'x'),\n",
       " ('b', '1'),\n",
       " ('1', 'b'),\n",
       " ('b', '2'),\n",
       " ('2', 'b'),\n",
       " ('b', '3'),\n",
       " ('3', 'b'),\n",
       " ('b', '4'),\n",
       " ('4', 'b')]"
      ]
     },
     "execution_count": 40,
     "metadata": {},
     "output_type": "execute_result"
    }
   ],
   "source": [
    "combo(names, numbers)"
   ]
  },
  {
   "cell_type": "code",
   "execution_count": 60,
   "metadata": {},
   "outputs": [
    {
     "name": "stdout",
     "output_type": "stream",
     "text": [
      "['a', 'z', 'x', 'b']\n"
     ]
    }
   ],
   "source": [
    "# faster and counts objects ordering them from lowest to highest\n",
    "from collections import Counter\n",
    "type_counts = Counter(names)\n",
    "print(list(names))"
   ]
  },
  {
   "cell_type": "code",
   "execution_count": 61,
   "metadata": {},
   "outputs": [
    {
     "name": "stdout",
     "output_type": "stream",
     "text": [
      "<class 'itertools.combinations'> \n",
      "\n",
      "['a', 'z', 'x', 'b'] \n",
      "\n"
     ]
    }
   ],
   "source": [
    "# Import combinations from itertools\n",
    "from itertools import combinations\n",
    "\n",
    "# Create a combination object with pairs of lists\n",
    "combos_obj = combinations(names, 2)\n",
    "print(type(combos_obj), '\\n')\n",
    "\n",
    "# Convert combos_obj to a list by unpacking\n",
    "names_2 = [*names]\n",
    "print(names_2, '\\n')"
   ]
  },
  {
   "cell_type": "code",
   "execution_count": 62,
   "metadata": {},
   "outputs": [
    {
     "name": "stdout",
     "output_type": "stream",
     "text": [
      "[1, 2, 5, 10]\n"
     ]
    }
   ],
   "source": [
    "nums = [1.1, 2.0, 5.4, 9.8]\n",
    "rnd_nums = map(round, nums) #apply a function to an object (i.e. map to round numbers)\n",
    "print(list(rnd_nums))"
   ]
  },
  {
   "cell_type": "code",
   "execution_count": 63,
   "metadata": {},
   "outputs": [
    {
     "name": "stdout",
     "output_type": "stream",
     "text": [
      "[1, 4, 25, 16, 81, 64]\n"
     ]
    }
   ],
   "source": [
    "nums = [1, 2, 5, 4, 9, 8]\n",
    "sqrd_nums = map(lambda x:x **2, nums) #apply a built in map function to anonymous function with lambda\n",
    "print(list(sqrd_nums))"
   ]
  },
  {
   "cell_type": "code",
   "execution_count": 64,
   "metadata": {},
   "outputs": [
    {
     "name": "stdout",
     "output_type": "stream",
     "text": [
      "<class 'range'>\n"
     ]
    }
   ],
   "source": [
    "# Create a range object that goes from 0 to 5\n",
    "nums = range(6)\n",
    "print(type(nums))"
   ]
  },
  {
   "cell_type": "code",
   "execution_count": 65,
   "metadata": {},
   "outputs": [
    {
     "name": "stdout",
     "output_type": "stream",
     "text": [
      "[0, 1, 2, 3, 4, 5]\n"
     ]
    }
   ],
   "source": [
    "# Convert nums to a list\n",
    "nums_list = list(nums)\n",
    "print(nums_list)\n"
   ]
  },
  {
   "cell_type": "code",
   "execution_count": 66,
   "metadata": {},
   "outputs": [
    {
     "name": "stdout",
     "output_type": "stream",
     "text": [
      "[1, 3, 5, 7, 9, 11]\n"
     ]
    }
   ],
   "source": [
    "# Create a new list of odd numbers from 1 to 11 by unpacking a range object\n",
    "nums_list2 = [*range(1,12,2)]\n",
    "print(nums_list2)"
   ]
  },
  {
   "cell_type": "code",
   "execution_count": 67,
   "metadata": {},
   "outputs": [
    {
     "name": "stdout",
     "output_type": "stream",
     "text": [
      "[(0, 'a'), (1, 'z'), (2, 'x'), (3, 'b')]\n"
     ]
    }
   ],
   "source": [
    "# Rewrite for loop to use enumerate\n",
    "indexed_names = []\n",
    "for i,name in enumerate(names):\n",
    "    index_name = (i,name)\n",
    "    indexed_names.append(index_name) \n",
    "print(indexed_names)\n"
   ]
  },
  {
   "cell_type": "code",
   "execution_count": 68,
   "metadata": {},
   "outputs": [
    {
     "name": "stdout",
     "output_type": "stream",
     "text": [
      "[(0, 'a'), (1, 'z'), (2, 'x'), (3, 'b')]\n"
     ]
    }
   ],
   "source": [
    "# Rewrite the above for loop using list comprehension\n",
    "indexed_names_comp = [(i,name) for i,name in enumerate(names)]\n",
    "print(indexed_names_comp)"
   ]
  },
  {
   "cell_type": "code",
   "execution_count": 69,
   "metadata": {},
   "outputs": [
    {
     "name": "stdout",
     "output_type": "stream",
     "text": [
      "[(1, 'a'), (2, 'z'), (3, 'x'), (4, 'b')]\n"
     ]
    }
   ],
   "source": [
    "# Unpack an enumerate object with a starting index of one\n",
    "indexed_names_unpack = [*enumerate(names, 1)]\n",
    "print(indexed_names_unpack)"
   ]
  },
  {
   "cell_type": "code",
   "execution_count": 70,
   "metadata": {},
   "outputs": [
    {
     "name": "stdout",
     "output_type": "stream",
     "text": [
      "<class 'map'>\n",
      "['A', 'Z', 'X', 'B']\n"
     ]
    }
   ],
   "source": [
    "# Use map to apply str.upper to each element in names\n",
    "names_map  = map(str.upper, names)\n",
    "\n",
    "# Print the type of the names_map\n",
    "print(type(names_map))\n",
    "\n",
    "# Unpack names_map into a list\n",
    "names_uppercase = [*names_map]\n",
    "\n",
    "# Print the list created by unpacking the map object\n",
    "print(names_uppercase)"
   ]
  },
  {
   "cell_type": "markdown",
   "metadata": {},
   "source": [
    "# Set Theory\n",
    "- Branch of mathematics applied to a collection of objects, i.e. sets\n",
    "- Python has a built-in set datatype with accompanying methods:  \n",
    "-- intersection(): all elements that are in both sets  \n",
    "-- difference(): all elements in one set but not the other    \n",
    "-- symmetric_difference(): all elements in exactly one set  \n",
    "-- union(): all elements that are in either set   \n",
    "- allows for membership testing using to see if a value exists in a sequence or not (using in operator) "
   ]
  },
  {
   "cell_type": "code",
   "execution_count": 73,
   "metadata": {},
   "outputs": [
    {
     "name": "stdout",
     "output_type": "stream",
     "text": [
      "{'y', 'b', 'x', 'a'}\n",
      "{'y', 'b', 'x', 'a'}\n",
      "33.4 ns ± 0.572 ns per loop (mean ± std. dev. of 7 runs, 10000000 loops each)\n",
      "True\n"
     ]
    }
   ],
   "source": [
    "list_a = ['a', 'b', 'c', 'd']\n",
    "list_b = ['a', 'b', 'x', 'y']\n",
    "set_a = set(list_b)\n",
    "print(set_a)\n",
    "\n",
    "set_b = set(list_b)\n",
    "print(set_b)\n",
    "\n",
    "set_a.intersection(set_b) # one simple line of code and no need for loop\n",
    "                          # also the run time is much faster\n",
    "    \n",
    "set_b.difference(set_a) # to find the difference\n",
    "\n",
    "set_a.symmetric_difference(set_b) # to explore differences\n",
    "\n",
    "set_a.union(set_b) # to combine the two sets\n",
    "\n",
    "%timeit 'x' in set_a # to explore membership\n",
    "print('x' in set_a)"
   ]
  },
  {
   "cell_type": "code",
   "execution_count": 74,
   "metadata": {},
   "outputs": [
    {
     "name": "stdout",
     "output_type": "stream",
     "text": [
      "{'b', 'd', 'a', 'c'}\n"
     ]
    }
   ],
   "source": [
    "# can also use set to convert a list to a set\n",
    "list_a = ['a', 'b', 'c', 'd']\n",
    "list_a_set = set(list_a)\n",
    "print(list_a_set)"
   ]
  },
  {
   "cell_type": "markdown",
   "metadata": {},
   "source": [
    "# The power of numpy arrays"
   ]
  },
  {
   "cell_type": "markdown",
   "metadata": {},
   "source": [
    "Intro to numpy features:\n",
    "- numpy arrays are an alternative to python lists but more efficient\n",
    "- arrays, vectors, and matrices \n",
    "- less verbose\n",
    "- matrix multiplications\n",
    "- eigen values and eigen vectors\n",
    "- solving linear systems"
   ]
  },
  {
   "cell_type": "code",
   "execution_count": 20,
   "metadata": {},
   "outputs": [],
   "source": [
    "import numpy as np"
   ]
  },
  {
   "cell_type": "code",
   "execution_count": 76,
   "metadata": {},
   "outputs": [
    {
     "name": "stdout",
     "output_type": "stream",
     "text": [
      "[1 2 3]\n"
     ]
    }
   ],
   "source": [
    "Array = np.array([1,2,3])\n",
    "print(Array)"
   ]
  },
  {
   "cell_type": "code",
   "execution_count": 77,
   "metadata": {},
   "outputs": [
    {
     "data": {
      "text/plain": [
       "dtype('int64')"
      ]
     },
     "execution_count": 77,
     "metadata": {},
     "output_type": "execute_result"
    }
   ],
   "source": [
    "# find the type of each element using dtype\n",
    "Array.dtype #returns integer"
   ]
  },
  {
   "cell_type": "code",
   "execution_count": 78,
   "metadata": {},
   "outputs": [
    {
     "name": "stdout",
     "output_type": "stream",
     "text": [
      "1\n",
      "2\n",
      "3\n"
     ]
    }
   ],
   "source": [
    "for e in Array:\n",
    "    print (e)"
   ]
  },
  {
   "cell_type": "code",
   "execution_count": 79,
   "metadata": {},
   "outputs": [
    {
     "data": {
      "text/plain": [
       "array([2, 4, 6])"
      ]
     },
     "execution_count": 79,
     "metadata": {},
     "output_type": "execute_result"
    }
   ],
   "source": [
    "Array + Array"
   ]
  },
  {
   "cell_type": "code",
   "execution_count": 80,
   "metadata": {},
   "outputs": [
    {
     "data": {
      "text/plain": [
       "array([2, 4, 6])"
      ]
     },
     "execution_count": 80,
     "metadata": {},
     "output_type": "execute_result"
    }
   ],
   "source": [
    "2* Array"
   ]
  },
  {
   "cell_type": "code",
   "execution_count": 81,
   "metadata": {},
   "outputs": [
    {
     "data": {
      "text/plain": [
       "array([1, 4, 9])"
      ]
     },
     "execution_count": 81,
     "metadata": {},
     "output_type": "execute_result"
    }
   ],
   "source": [
    "Array ** 2 #squaring arrays all at once"
   ]
  },
  {
   "cell_type": "code",
   "execution_count": 82,
   "metadata": {},
   "outputs": [
    {
     "data": {
      "text/plain": [
       "array([1.        , 1.41421356, 1.73205081])"
      ]
     },
     "execution_count": 82,
     "metadata": {},
     "output_type": "execute_result"
    }
   ],
   "source": [
    "np.sqrt(Array) #square root of array2"
   ]
  },
  {
   "cell_type": "code",
   "execution_count": 83,
   "metadata": {},
   "outputs": [
    {
     "data": {
      "text/plain": [
       "array([0.        , 0.69314718, 1.09861229])"
      ]
     },
     "execution_count": 83,
     "metadata": {},
     "output_type": "execute_result"
    }
   ],
   "source": [
    "np.log(Array) #log of array2"
   ]
  },
  {
   "cell_type": "code",
   "execution_count": 84,
   "metadata": {},
   "outputs": [
    {
     "data": {
      "text/plain": [
       "array([ 2.71828183,  7.3890561 , 20.08553692])"
      ]
     },
     "execution_count": 84,
     "metadata": {},
     "output_type": "execute_result"
    }
   ],
   "source": [
    "np.exp(Array) #exponential of array2"
   ]
  },
  {
   "cell_type": "code",
   "execution_count": 85,
   "metadata": {},
   "outputs": [
    {
     "data": {
      "text/plain": [
       "6"
      ]
     },
     "execution_count": 85,
     "metadata": {},
     "output_type": "execute_result"
    }
   ],
   "source": [
    "np.sum(Array)"
   ]
  },
  {
   "cell_type": "code",
   "execution_count": 86,
   "metadata": {},
   "outputs": [
    {
     "data": {
      "text/plain": [
       "3.7416573867739413"
      ]
     },
     "execution_count": 86,
     "metadata": {},
     "output_type": "execute_result"
    }
   ],
   "source": [
    "np.linalg.norm(Array)"
   ]
  },
  {
   "cell_type": "code",
   "execution_count": 87,
   "metadata": {},
   "outputs": [],
   "source": [
    "M = np.matrix([[1,5], [6,8]])"
   ]
  },
  {
   "cell_type": "code",
   "execution_count": 88,
   "metadata": {},
   "outputs": [
    {
     "data": {
      "text/plain": [
       "matrix([[1, 5],\n",
       "        [6, 8]])"
      ]
     },
     "execution_count": 88,
     "metadata": {},
     "output_type": "execute_result"
    }
   ],
   "source": [
    "M"
   ]
  },
  {
   "cell_type": "code",
   "execution_count": 89,
   "metadata": {},
   "outputs": [
    {
     "name": "stdout",
     "output_type": "stream",
     "text": [
      "[[6 8]]\n"
     ]
    }
   ],
   "source": [
    "print(M[1,:]) # to print the second row of the matrix"
   ]
  },
  {
   "cell_type": "code",
   "execution_count": 90,
   "metadata": {},
   "outputs": [
    {
     "name": "stdout",
     "output_type": "stream",
     "text": [
      "[[8]]\n"
     ]
    }
   ],
   "source": [
    "print(M[M>6]) # Print all elements of nums that are greater than six"
   ]
  },
  {
   "cell_type": "code",
   "execution_count": 91,
   "metadata": {},
   "outputs": [
    {
     "name": "stdout",
     "output_type": "stream",
     "text": [
      "[[ 2 10]\n",
      " [12 16]]\n"
     ]
    }
   ],
   "source": [
    "# Double every element of M\n",
    "M_dbl = M * 2\n",
    "print(M_dbl)"
   ]
  },
  {
   "cell_type": "code",
   "execution_count": 92,
   "metadata": {},
   "outputs": [
    {
     "name": "stdout",
     "output_type": "stream",
     "text": [
      "[[1 6]\n",
      " [6 9]]\n"
     ]
    }
   ],
   "source": [
    "# Replace the second column of M\n",
    "M[:,1] = M[:,1] + 1\n",
    "print(M)"
   ]
  },
  {
   "cell_type": "code",
   "execution_count": 93,
   "metadata": {},
   "outputs": [],
   "source": [
    "A = np.array(M)"
   ]
  },
  {
   "cell_type": "code",
   "execution_count": 94,
   "metadata": {},
   "outputs": [
    {
     "data": {
      "text/plain": [
       "array([[1, 6],\n",
       "       [6, 9]])"
      ]
     },
     "execution_count": 94,
     "metadata": {},
     "output_type": "execute_result"
    }
   ],
   "source": [
    "A"
   ]
  },
  {
   "cell_type": "code",
   "execution_count": 95,
   "metadata": {},
   "outputs": [
    {
     "name": "stdout",
     "output_type": "stream",
     "text": [
      "[10, 20, 30, 40, 50]\n",
      "[ 7 17 27 37 47]\n"
     ]
    }
   ],
   "source": [
    "# Create a list of arrival times\n",
    "arrival_times = [*range(10,60,10)] # intervals by 10\n",
    "print(arrival_times)\n",
    "\n",
    "# Convert arrival_times to an array and update the times\n",
    "arrival_times_np = np.array(arrival_times)\n",
    "new_times = arrival_times_np - 3\n",
    "\n",
    "print(new_times)\n"
   ]
  },
  {
   "cell_type": "code",
   "execution_count": 96,
   "metadata": {},
   "outputs": [
    {
     "data": {
      "text/plain": [
       "array([[1, 6],\n",
       "       [6, 9]])"
      ]
     },
     "execution_count": 96,
     "metadata": {},
     "output_type": "execute_result"
    }
   ],
   "source": [
    "A.T #use T for transpose"
   ]
  },
  {
   "cell_type": "code",
   "execution_count": 97,
   "metadata": {},
   "outputs": [],
   "source": [
    "Z = np.zeros(11) #generate an array"
   ]
  },
  {
   "cell_type": "code",
   "execution_count": 98,
   "metadata": {},
   "outputs": [
    {
     "data": {
      "text/plain": [
       "array([0., 0., 0., 0., 0., 0., 0., 0., 0., 0., 0.])"
      ]
     },
     "execution_count": 98,
     "metadata": {},
     "output_type": "execute_result"
    }
   ],
   "source": [
    "Z"
   ]
  },
  {
   "cell_type": "code",
   "execution_count": 99,
   "metadata": {},
   "outputs": [],
   "source": [
    "Z = np.zeros((11,11)) #generate a marix of zeros"
   ]
  },
  {
   "cell_type": "code",
   "execution_count": 100,
   "metadata": {},
   "outputs": [
    {
     "data": {
      "text/plain": [
       "array([[0., 0., 0., 0., 0., 0., 0., 0., 0., 0., 0.],\n",
       "       [0., 0., 0., 0., 0., 0., 0., 0., 0., 0., 0.],\n",
       "       [0., 0., 0., 0., 0., 0., 0., 0., 0., 0., 0.],\n",
       "       [0., 0., 0., 0., 0., 0., 0., 0., 0., 0., 0.],\n",
       "       [0., 0., 0., 0., 0., 0., 0., 0., 0., 0., 0.],\n",
       "       [0., 0., 0., 0., 0., 0., 0., 0., 0., 0., 0.],\n",
       "       [0., 0., 0., 0., 0., 0., 0., 0., 0., 0., 0.],\n",
       "       [0., 0., 0., 0., 0., 0., 0., 0., 0., 0., 0.],\n",
       "       [0., 0., 0., 0., 0., 0., 0., 0., 0., 0., 0.],\n",
       "       [0., 0., 0., 0., 0., 0., 0., 0., 0., 0., 0.],\n",
       "       [0., 0., 0., 0., 0., 0., 0., 0., 0., 0., 0.]])"
      ]
     },
     "execution_count": 100,
     "metadata": {},
     "output_type": "execute_result"
    }
   ],
   "source": [
    "Z"
   ]
  },
  {
   "cell_type": "code",
   "execution_count": 101,
   "metadata": {},
   "outputs": [],
   "source": [
    "X = np.ones((10,10)) #generate a marix of ones"
   ]
  },
  {
   "cell_type": "code",
   "execution_count": 102,
   "metadata": {},
   "outputs": [
    {
     "data": {
      "text/plain": [
       "array([[1., 1., 1., 1., 1., 1., 1., 1., 1., 1.],\n",
       "       [1., 1., 1., 1., 1., 1., 1., 1., 1., 1.],\n",
       "       [1., 1., 1., 1., 1., 1., 1., 1., 1., 1.],\n",
       "       [1., 1., 1., 1., 1., 1., 1., 1., 1., 1.],\n",
       "       [1., 1., 1., 1., 1., 1., 1., 1., 1., 1.],\n",
       "       [1., 1., 1., 1., 1., 1., 1., 1., 1., 1.],\n",
       "       [1., 1., 1., 1., 1., 1., 1., 1., 1., 1.],\n",
       "       [1., 1., 1., 1., 1., 1., 1., 1., 1., 1.],\n",
       "       [1., 1., 1., 1., 1., 1., 1., 1., 1., 1.],\n",
       "       [1., 1., 1., 1., 1., 1., 1., 1., 1., 1.]])"
      ]
     },
     "execution_count": 102,
     "metadata": {},
     "output_type": "execute_result"
    }
   ],
   "source": [
    "X"
   ]
  },
  {
   "cell_type": "code",
   "execution_count": 103,
   "metadata": {},
   "outputs": [],
   "source": [
    "Y = np.random.random((10,10))"
   ]
  },
  {
   "cell_type": "code",
   "execution_count": 104,
   "metadata": {},
   "outputs": [
    {
     "data": {
      "text/plain": [
       "array([[0.35579184, 0.7747728 , 0.48992445, 0.10885725, 0.13355319,\n",
       "        0.24313407, 0.33213702, 0.47434992, 0.27057785, 0.67484345],\n",
       "       [0.18027774, 0.68205535, 0.21582425, 0.45393513, 0.98849781,\n",
       "        0.06727891, 0.86296432, 0.85806475, 0.70462158, 0.41747367],\n",
       "       [0.63585985, 0.79375969, 0.19900827, 0.42952425, 0.99007405,\n",
       "        0.45055262, 0.65327612, 0.65199999, 0.18807456, 0.67610806],\n",
       "       [0.45626637, 0.9112365 , 0.65579309, 0.23352172, 0.12605694,\n",
       "        0.8874374 , 0.09226782, 0.35317557, 0.99983465, 0.28922897],\n",
       "       [0.6113417 , 0.72609919, 0.75346267, 0.94643661, 0.80181448,\n",
       "        0.2040487 , 0.6776737 , 0.79612692, 0.4359737 , 0.74743377],\n",
       "       [0.77624566, 0.34085088, 0.56797176, 0.6472214 , 0.04323505,\n",
       "        0.77159063, 0.30089441, 0.68352157, 0.65685336, 0.73470674],\n",
       "       [0.11851079, 0.26598064, 0.5814779 , 0.91118739, 0.10549918,\n",
       "        0.12440416, 0.17892103, 0.68772458, 0.35065721, 0.52550234],\n",
       "       [0.13088131, 0.73353483, 0.29621867, 0.4924576 , 0.71511134,\n",
       "        0.98538912, 0.51466865, 0.63869216, 0.2153835 , 0.17487402],\n",
       "       [0.94182537, 0.97457816, 0.0046258 , 0.42642334, 0.4067045 ,\n",
       "        0.84177311, 0.5237656 , 0.69230298, 0.44614248, 0.84858188],\n",
       "       [0.35070078, 0.51286643, 0.33338073, 0.79575856, 0.0642262 ,\n",
       "        0.32585699, 0.84153299, 0.28080086, 0.02343109, 0.50951818]])"
      ]
     },
     "execution_count": 104,
     "metadata": {},
     "output_type": "execute_result"
    }
   ],
   "source": [
    "Y"
   ]
  },
  {
   "cell_type": "code",
   "execution_count": 105,
   "metadata": {},
   "outputs": [],
   "source": [
    "G = np.random.randn(10,10)"
   ]
  },
  {
   "cell_type": "code",
   "execution_count": 106,
   "metadata": {},
   "outputs": [
    {
     "data": {
      "text/plain": [
       "array([[ 0.91143767, -0.55808767,  0.00659945,  0.52263833, -2.16127977,\n",
       "        -0.46332669,  0.70056805,  0.90228063, -0.0034718 ,  0.23001443],\n",
       "       [-0.215752  , -0.56601005, -1.5166436 ,  0.05202422, -0.22106233,\n",
       "        -0.4372219 , -0.08597568,  0.50040426, -0.83263128,  0.95423562],\n",
       "       [-0.32844142, -0.04040685,  0.50025567,  0.09797489,  0.22086392,\n",
       "         2.24726242, -0.15895142, -0.13304282,  0.5930657 ,  1.18404819],\n",
       "       [-0.50300548, -0.10871293,  0.2526728 , -0.25144401, -1.93836694,\n",
       "        -0.62753417,  2.01746912, -0.57860827, -0.75252584,  0.93085931],\n",
       "       [ 0.09158355,  1.5593627 , -0.47570951,  0.96725051, -0.50873691,\n",
       "        -0.49310754, -0.86189119, -1.70871096,  0.66671084, -0.03423764],\n",
       "       [ 0.1890798 ,  1.6355293 , -0.56832202, -0.10865605,  1.57663891,\n",
       "         1.07309038,  0.34715536, -0.86404805, -1.58937919,  0.96551855],\n",
       "       [ 0.66597886,  0.20410198, -0.05542084, -0.45059691, -1.60308066,\n",
       "         1.61762353,  0.66918669, -1.91099481, -1.55233846, -1.41944954],\n",
       "       [ 1.11499735,  1.24116472, -0.47632615, -0.90447013, -0.25669018,\n",
       "         0.59462977, -0.17349812, -0.01757793,  0.81856033, -0.50047362],\n",
       "       [-0.75114963, -0.58330538, -1.59390765, -0.15535764,  0.31953604,\n",
       "        -0.35937184, -0.32884586,  0.49589733, -1.70479781, -0.15501539],\n",
       "       [-0.35089196, -0.03165506,  1.22160472, -0.05869715, -0.50821515,\n",
       "         0.30937907, -0.4709603 ,  0.8797278 , -0.10981164, -0.66598481]])"
      ]
     },
     "execution_count": 106,
     "metadata": {},
     "output_type": "execute_result"
    }
   ],
   "source": [
    "G"
   ]
  },
  {
   "cell_type": "code",
   "execution_count": 107,
   "metadata": {},
   "outputs": [
    {
     "data": {
      "text/plain": [
       "-0.04795203813450835"
      ]
     },
     "execution_count": 107,
     "metadata": {},
     "output_type": "execute_result"
    }
   ],
   "source": [
    "G.mean() #calculate mean"
   ]
  },
  {
   "cell_type": "code",
   "execution_count": 108,
   "metadata": {},
   "outputs": [
    {
     "data": {
      "text/plain": [
       "0.7907787429157171"
      ]
     },
     "execution_count": 108,
     "metadata": {},
     "output_type": "execute_result"
    }
   ],
   "source": [
    "G.var() #calculate values"
   ]
  },
  {
   "cell_type": "code",
   "execution_count": 109,
   "metadata": {},
   "outputs": [],
   "source": [
    "Ginv = np.linalg.inv(G) #inverse to get the identity matrix"
   ]
  },
  {
   "cell_type": "code",
   "execution_count": 110,
   "metadata": {},
   "outputs": [
    {
     "data": {
      "text/plain": [
       "array([[ 3.40667537e-02,  9.44379942e-01, -4.15435671e-01,\n",
       "        -3.89445865e-01, -2.24921366e-01,  1.94162315e-01,\n",
       "         2.90961408e-01, -1.00660962e-01, -1.02055935e+00,\n",
       "         6.80575293e-02],\n",
       "       [ 2.21624389e-01, -6.63183758e-01,  1.00196004e-01,\n",
       "         2.01282229e-01,  2.47317663e-01,  2.27911896e-01,\n",
       "        -2.69942987e-01,  3.15555574e-01,  5.43593908e-01,\n",
       "         1.15181236e-01],\n",
       "       [-3.10418267e-01,  7.40339754e-01, -2.99086989e-01,\n",
       "        -5.22664346e-02, -1.23989201e-01,  1.20189413e-01,\n",
       "         1.70599791e-01, -2.65831390e-01, -9.22834502e-01,\n",
       "         5.80342569e-01],\n",
       "       [ 8.76247490e-01, -1.48940254e+00,  3.80743331e-01,\n",
       "        -1.35036897e-01,  2.93430437e-01,  1.37334473e-01,\n",
       "        -2.77579325e-01, -3.12579698e-01,  1.04418097e+00,\n",
       "        -5.75744433e-01],\n",
       "       [-7.33195154e-03, -3.66635964e-01, -3.84937555e-02,\n",
       "        -1.30651417e-01, -1.43623084e-01,  1.26683567e-01,\n",
       "        -1.01514942e-01, -1.09743113e-01,  1.09083327e-01,\n",
       "        -3.14418841e-01],\n",
       "       [ 2.73549540e-01, -6.48431301e-01,  4.71072127e-01,\n",
       "        -2.79676268e-02,  8.58958579e-05,  1.05046800e-03,\n",
       "        -1.58955603e-02,  1.03392182e-01,  5.69122225e-01,\n",
       "        -2.10952618e-01],\n",
       "       [ 5.91939100e-01, -1.73013322e+00,  3.26993855e-01,\n",
       "         3.05817758e-01, -8.53214784e-02,  5.74677188e-02,\n",
       "        -3.27022439e-01,  1.15557909e-01,  1.14258755e+00,\n",
       "        -8.33808127e-01],\n",
       "       [ 4.63238626e-01, -7.28050028e-01,  1.96040518e-01,\n",
       "         3.03970923e-02, -5.14391286e-02,  9.15911677e-02,\n",
       "        -3.26312740e-01,  2.13495263e-01,  7.02601267e-01,\n",
       "         1.47945936e-02],\n",
       "       [ 1.14525144e-01, -6.80820901e-01,  2.93913107e-01,\n",
       "         9.45492211e-02,  8.35227522e-02, -2.60461029e-01,\n",
       "        -2.27076887e-01,  2.22368847e-01,  4.23905070e-01,\n",
       "        -4.44933210e-01],\n",
       "       [-3.68005898e-01,  1.37580188e+00, -1.40580150e-01,\n",
       "         6.66104174e-03, -5.82869933e-02,  1.22334128e-01,\n",
       "         1.04664889e-01, -1.26616727e-01, -1.04155433e+00,\n",
       "         3.96870235e-01]])"
      ]
     },
     "execution_count": 110,
     "metadata": {},
     "output_type": "execute_result"
    }
   ],
   "source": [
    "Ginv"
   ]
  },
  {
   "cell_type": "code",
   "execution_count": 111,
   "metadata": {},
   "outputs": [
    {
     "data": {
      "text/plain": [
       "array([[ 1.00000000e+00,  7.60033988e-17,  2.13517610e-16,\n",
       "        -4.52536655e-17, -9.93054323e-17, -5.09558810e-16,\n",
       "         3.05347233e-16,  5.96396316e-17, -2.22044605e-16,\n",
       "         2.22044605e-16],\n",
       "       [-2.84692107e-17,  1.00000000e+00, -2.47164525e-16,\n",
       "         1.08480991e-16, -1.35802811e-16,  7.48797161e-17,\n",
       "        -1.92210660e-16, -2.66643859e-17,  2.22044605e-16,\n",
       "         0.00000000e+00],\n",
       "       [-3.00219265e-16, -2.26401162e-16,  1.00000000e+00,\n",
       "         1.94145305e-16,  2.58063247e-16, -2.41582513e-16,\n",
       "        -2.10725669e-16, -1.25739864e-16, -4.44089210e-16,\n",
       "         3.33066907e-16],\n",
       "       [-9.50082748e-19,  3.04589605e-16,  1.85457926e-16,\n",
       "         1.00000000e+00, -5.34997789e-16,  2.79112903e-16,\n",
       "         1.81781241e-16, -1.80168058e-16,  9.99200722e-16,\n",
       "        -7.77156117e-16],\n",
       "       [ 2.65295269e-17,  1.82784619e-17,  2.42367218e-16,\n",
       "        -2.92833500e-17,  1.00000000e+00, -8.44248075e-17,\n",
       "         2.88052832e-16,  2.40765860e-17,  3.60822483e-16,\n",
       "        -2.77555756e-16],\n",
       "       [-9.18879189e-18,  5.42492644e-17,  5.99332287e-17,\n",
       "        -1.11686726e-17, -1.07530109e-16,  1.00000000e+00,\n",
       "         1.17286858e-17,  2.25599491e-17,  1.11022302e-16,\n",
       "        -2.22044605e-16],\n",
       "       [ 8.71717079e-17,  9.57381728e-17, -4.93367245e-16,\n",
       "        -9.60498155e-17, -4.68127979e-16,  4.20278322e-17,\n",
       "         1.00000000e+00,  7.91584131e-17,  8.88178420e-16,\n",
       "        -7.77156117e-16],\n",
       "       [ 2.32373615e-16,  1.48720054e-16,  1.75597839e-16,\n",
       "         4.91408523e-17, -1.28696705e-16,  2.91575455e-16,\n",
       "         7.09697807e-17,  1.00000000e+00,  5.55111512e-16,\n",
       "        -2.22044605e-16],\n",
       "       [ 8.62796862e-17,  9.77758739e-17, -3.66987336e-16,\n",
       "        -1.22344206e-16, -2.02093968e-16,  1.58715495e-16,\n",
       "         5.27902789e-17,  7.61256680e-17,  1.00000000e+00,\n",
       "        -2.22044605e-16],\n",
       "       [-4.91219144e-18, -1.84510951e-16, -7.40715872e-17,\n",
       "         5.86498006e-17,  2.37709169e-18,  1.08780305e-16,\n",
       "        -7.84131922e-17, -6.52135031e-17, -2.22044605e-16,\n",
       "         1.00000000e+00]])"
      ]
     },
     "execution_count": 111,
     "metadata": {},
     "output_type": "execute_result"
    }
   ],
   "source": [
    "Ginv.dot(G) #identity matrix "
   ]
  },
  {
   "cell_type": "code",
   "execution_count": 112,
   "metadata": {},
   "outputs": [
    {
     "data": {
      "text/plain": [
       "array([[ 1.00000000e+00, -1.38055898e-16, -5.49393457e-17,\n",
       "         7.18839082e-17,  6.27706948e-17,  2.62980792e-17,\n",
       "        -3.78463659e-17,  1.87019114e-16,  1.66533454e-16,\n",
       "         0.00000000e+00],\n",
       "       [-1.81131382e-16,  1.00000000e+00, -1.34209205e-16,\n",
       "        -7.73686750e-18, -6.69638919e-17,  1.38917786e-16,\n",
       "         1.42127635e-16, -6.84638787e-18, -6.66133815e-16,\n",
       "         4.44089210e-16],\n",
       "       [ 1.18573194e-17,  2.87648417e-16,  1.00000000e+00,\n",
       "        -4.98818752e-17, -9.42438559e-18, -1.44275683e-17,\n",
       "         1.68132762e-17, -5.87739840e-18, -2.84494650e-16,\n",
       "         6.93889390e-17],\n",
       "       [ 3.97593601e-17, -1.05165315e-16,  1.26014407e-16,\n",
       "         1.00000000e+00,  6.36169736e-17,  1.94815966e-17,\n",
       "         3.50348372e-17,  7.53306068e-18,  0.00000000e+00,\n",
       "        -1.11022302e-16],\n",
       "       [-2.84316910e-16,  1.12999365e-15, -2.38657537e-17,\n",
       "         1.08428650e-16,  1.00000000e+00, -7.24111646e-18,\n",
       "         8.38442850e-17,  6.47684507e-17, -1.66533454e-16,\n",
       "         2.22044605e-16],\n",
       "       [ 2.80184737e-16, -6.79588484e-16,  3.49778076e-16,\n",
       "         3.12871027e-16,  1.25220923e-16,  1.00000000e+00,\n",
       "        -3.65161837e-16,  1.34490048e-16,  4.99600361e-16,\n",
       "        -4.99600361e-16],\n",
       "       [ 2.46696739e-17,  1.25647726e-16, -7.83871639e-18,\n",
       "         1.50817700e-17,  7.94398531e-17, -3.71269666e-17,\n",
       "         1.00000000e+00, -1.73962718e-16,  4.44089210e-16,\n",
       "        -1.11022302e-16],\n",
       "       [ 1.93976904e-19,  4.18516676e-17, -3.79503325e-17,\n",
       "         4.99959084e-17, -1.22652006e-17, -9.25696730e-17,\n",
       "         4.11738731e-17,  1.00000000e+00,  0.00000000e+00,\n",
       "        -5.55111512e-17],\n",
       "       [ 1.41501852e-16, -7.81178834e-17,  3.71086830e-17,\n",
       "        -7.41389242e-17,  5.13721839e-18,  4.78403003e-17,\n",
       "         3.67910409e-17,  1.03525427e-16,  1.00000000e+00,\n",
       "        -4.85722573e-17],\n",
       "       [-2.75457032e-16,  6.14037677e-16, -5.11294710e-17,\n",
       "        -3.50169009e-16, -2.55765986e-18,  1.41510921e-16,\n",
       "         1.86161190e-16, -4.08942845e-16, -6.66133815e-16,\n",
       "         1.00000000e+00]])"
      ]
     },
     "execution_count": 112,
     "metadata": {},
     "output_type": "execute_result"
    }
   ],
   "source": [
    "G.dot(Ginv) #identity matrix"
   ]
  },
  {
   "cell_type": "code",
   "execution_count": 113,
   "metadata": {},
   "outputs": [
    {
     "data": {
      "text/plain": [
       "-698.2796205607748"
      ]
     },
     "execution_count": 113,
     "metadata": {},
     "output_type": "execute_result"
    }
   ],
   "source": [
    "np.linalg.det(G) #matrix determinant"
   ]
  },
  {
   "cell_type": "code",
   "execution_count": 114,
   "metadata": {},
   "outputs": [
    {
     "data": {
      "text/plain": [
       "array([ 0.91143767, -0.56601005,  0.50025567, -0.25144401, -0.50873691,\n",
       "        1.07309038,  0.66918669, -0.01757793, -1.70479781, -0.66598481])"
      ]
     },
     "execution_count": 114,
     "metadata": {},
     "output_type": "execute_result"
    }
   ],
   "source": [
    "np.diag(G) #diagonal elements in a vector"
   ]
  },
  {
   "cell_type": "code",
   "execution_count": 115,
   "metadata": {},
   "outputs": [
    {
     "data": {
      "text/plain": [
       "array([[1, 0],\n",
       "       [0, 2]])"
      ]
     },
     "execution_count": 115,
     "metadata": {},
     "output_type": "execute_result"
    }
   ],
   "source": [
    "np.diag([1,2]) "
   ]
  },
  {
   "cell_type": "code",
   "execution_count": 41,
   "metadata": {},
   "outputs": [
    {
     "name": "stdout",
     "output_type": "stream",
     "text": [
      "18.2 µs ± 3.17 µs per loop (mean ± std. dev. of 7 runs, 10000 loops each)\n",
      "The slowest run took 10.17 times longer than the fastest. This could mean that an intermediate result is being cached.\n",
      "102 µs ± 83.7 µs per loop (mean ± std. dev. of 2 runs, 10 loops each)\n",
      "16.6 µs ± 1.23 µs per loop (mean ± std. dev. of 7 runs, 10000 loops each)\n"
     ]
    }
   ],
   "source": [
    "# to find the most efficient code, we can time it!\n",
    "%timeit np.random.rand(1000) # can use built-in 'examining time' function to measure how much time calculations take\n",
    "\n",
    "# can also set the number of runs (-r)and number of loops (-n)\n",
    "%timeit -r2 -n10 np.random.rand(1000) \n",
    "\n",
    "#can also run timeit in cell code by using two magic %% codes and also save the output in (-o) flag\n",
    "time = %timeit -o np.random.rand(1000)"
   ]
  },
  {
   "cell_type": "code",
   "execution_count": 117,
   "metadata": {},
   "outputs": [
    {
     "data": {
      "text/plain": [
       "256"
      ]
     },
     "execution_count": 117,
     "metadata": {},
     "output_type": "execute_result"
    }
   ],
   "source": [
    "## code profiling allows us to analyze code line-by-line using package: line_profiler\n",
    "## this has applications for memory usage (or memory foot print)\n",
    "#pip install line_profiler\n",
    "#%load_ext line_profiler\n",
    "#%lprun -f # this will profile a function line-by-line\n",
    "\n",
    "## to calculate the memory usage\n",
    "#pip install memory_profiler \n",
    "#%load_ext memory_profiler\n",
    "#%mprun -f \n",
    "\n",
    "import sys\n",
    "sys.getsizeof(np.array(range(20)))\n"
   ]
  },
  {
   "cell_type": "code",
   "execution_count": 1,
   "metadata": {},
   "outputs": [
    {
     "ename": "NameError",
     "evalue": "name 'heroes' is not defined",
     "output_type": "error",
     "traceback": [
      "\u001b[0;31m---------------------------------------------------------------------------\u001b[0m",
      "\u001b[0;31mNameError\u001b[0m                                 Traceback (most recent call last)",
      "\u001b[0;32m<ipython-input-1-7a006ea1fa72>\u001b[0m in \u001b[0;36m<module>\u001b[0;34m\u001b[0m\n\u001b[1;32m     23\u001b[0m \u001b[0;34m\u001b[0m\u001b[0m\n\u001b[1;32m     24\u001b[0m \u001b[0;31m# Use get_publisher_heroes() to gather Star Wars heroes\u001b[0m\u001b[0;34m\u001b[0m\u001b[0;34m\u001b[0m\u001b[0;34m\u001b[0m\u001b[0m\n\u001b[0;32m---> 25\u001b[0;31m \u001b[0mstar_wars_heroes\u001b[0m \u001b[0;34m=\u001b[0m \u001b[0mget_publisher_heroes\u001b[0m\u001b[0;34m(\u001b[0m\u001b[0mheroes\u001b[0m\u001b[0;34m,\u001b[0m \u001b[0mpublishers\u001b[0m\u001b[0;34m,\u001b[0m \u001b[0;34m'George Lucas'\u001b[0m\u001b[0;34m)\u001b[0m\u001b[0;34m\u001b[0m\u001b[0;34m\u001b[0m\u001b[0m\n\u001b[0m\u001b[1;32m     26\u001b[0m \u001b[0;34m\u001b[0m\u001b[0m\n\u001b[1;32m     27\u001b[0m \u001b[0mprint\u001b[0m\u001b[0;34m(\u001b[0m\u001b[0mstar_wars_heroes\u001b[0m\u001b[0;34m)\u001b[0m\u001b[0;34m\u001b[0m\u001b[0;34m\u001b[0m\u001b[0m\n",
      "\u001b[0;31mNameError\u001b[0m: name 'heroes' is not defined"
     ]
    }
   ],
   "source": [
    "## imagine a list of 480 superheroes has been loaded into your session called (heroes)\n",
    "## as well as a list of each hero's corresponding publisher (called publishers)\n",
    "\n",
    "def get_publisher_heroes(heroes, publishers, desired_publisher):\n",
    "\n",
    "    desired_heroes = []\n",
    "\n",
    "    for i,pub in enumerate(publishers):\n",
    "        if pub == desired_publisher:\n",
    "            desired_heroes.append(heroes[i])\n",
    "\n",
    "    return desired_heroes\n",
    "\n",
    "def get_publisher_heroes_np(heroes, publishers, desired_publisher):\n",
    "\n",
    "    heroes_np = np.array(heroes)\n",
    "    pubs_np = np.array(publishers)\n",
    "\n",
    "    desired_heroes = heroes_np[pubs_np == desired_publisher]\n",
    "\n",
    "    return desired_heroes\n",
    "\n",
    "\n",
    "# Use get_publisher_heroes() to gather Star Wars heroes\n",
    "star_wars_heroes = get_publisher_heroes(heroes, publishers, 'George Lucas')\n",
    "\n",
    "print(star_wars_heroes)\n",
    "print(type(star_wars_heroes))\n",
    "\n",
    "# Use get_publisher_heroes_np() to gather Star Wars heroes\n",
    "star_wars_heroes_np = get_publisher_heroes_np(heroes, publishers, 'George Lucas')\n",
    "\n",
    "print(star_wars_heroes_np)\n",
    "print(type(star_wars_heroes_np))\n"
   ]
  },
  {
   "cell_type": "code",
   "execution_count": 118,
   "metadata": {},
   "outputs": [
    {
     "data": {
      "text/plain": [
       "array([[ 1,  6,  6,  9],\n",
       "       [ 6, 36, 36, 54],\n",
       "       [ 6, 36, 36, 54],\n",
       "       [ 9, 54, 54, 81]])"
      ]
     },
     "execution_count": 118,
     "metadata": {},
     "output_type": "execute_result"
    }
   ],
   "source": [
    "np.outer(M.T,M)"
   ]
  },
  {
   "cell_type": "code",
   "execution_count": 119,
   "metadata": {},
   "outputs": [
    {
     "data": {
      "text/plain": [
       "matrix([[ 37,  60],\n",
       "        [ 60, 117]])"
      ]
     },
     "execution_count": 119,
     "metadata": {},
     "output_type": "execute_result"
    }
   ],
   "source": [
    "np.inner(M.T,M)"
   ]
  },
  {
   "cell_type": "code",
   "execution_count": 120,
   "metadata": {},
   "outputs": [
    {
     "data": {
      "text/plain": [
       "matrix([[ 37,  60],\n",
       "        [ 60, 117]])"
      ]
     },
     "execution_count": 120,
     "metadata": {},
     "output_type": "execute_result"
    }
   ],
   "source": [
    "M.dot(M.T) #matrix multiplication"
   ]
  },
  {
   "cell_type": "code",
   "execution_count": 121,
   "metadata": {},
   "outputs": [
    {
     "data": {
      "text/plain": [
       "10"
      ]
     },
     "execution_count": 121,
     "metadata": {},
     "output_type": "execute_result"
    }
   ],
   "source": [
    "np.diag(M).sum()"
   ]
  },
  {
   "cell_type": "code",
   "execution_count": 122,
   "metadata": {},
   "outputs": [
    {
     "data": {
      "text/plain": [
       "10"
      ]
     },
     "execution_count": 122,
     "metadata": {},
     "output_type": "execute_result"
    }
   ],
   "source": [
    "np.trace(M)"
   ]
  },
  {
   "cell_type": "code",
   "execution_count": 123,
   "metadata": {},
   "outputs": [],
   "source": [
    "S = np.random.randn(100,3) #synthetic random data with 100 samples and 3 features"
   ]
  },
  {
   "cell_type": "code",
   "execution_count": 124,
   "metadata": {},
   "outputs": [],
   "source": [
    "cov = np.cov(S.T)"
   ]
  },
  {
   "cell_type": "code",
   "execution_count": 125,
   "metadata": {},
   "outputs": [
    {
     "data": {
      "text/plain": [
       "array([[ 1.04166055,  0.08876389, -0.04038847],\n",
       "       [ 0.08876389,  0.94483293,  0.0034369 ],\n",
       "       [-0.04038847,  0.0034369 ,  0.97412574]])"
      ]
     },
     "execution_count": 125,
     "metadata": {},
     "output_type": "execute_result"
    }
   ],
   "source": [
    "cov # to calculate coveriance of a marix, we need to transpose it first"
   ]
  },
  {
   "cell_type": "code",
   "execution_count": 126,
   "metadata": {},
   "outputs": [
    {
     "data": {
      "text/plain": [
       "(3, 3)"
      ]
     },
     "execution_count": 126,
     "metadata": {},
     "output_type": "execute_result"
    }
   ],
   "source": [
    "cov.shape"
   ]
  },
  {
   "cell_type": "code",
   "execution_count": 127,
   "metadata": {},
   "outputs": [
    {
     "data": {
      "text/plain": [
       "(array([0.88547882, 0.97216958, 1.10297081]),\n",
       " array([[-0.52766844,  0.07587895, -0.84605461],\n",
       "        [ 0.80485449,  0.36313726, -0.4694045 ],\n",
       "        [-0.27161603,  0.92864079,  0.25268759]]))"
      ]
     },
     "execution_count": 127,
     "metadata": {},
     "output_type": "execute_result"
    }
   ],
   "source": [
    "np.linalg.eigh(cov)# eigenvalues for symmetric and hermitian matrix"
   ]
  },
  {
   "cell_type": "code",
   "execution_count": 128,
   "metadata": {},
   "outputs": [
    {
     "data": {
      "text/plain": [
       "(array([1.10297081, 0.88547882, 0.97216958]),\n",
       " array([[ 0.84605461,  0.52766844,  0.07587895],\n",
       "        [ 0.4694045 , -0.80485449,  0.36313726],\n",
       "        [-0.25268759,  0.27161603,  0.92864079]]))"
      ]
     },
     "execution_count": 128,
     "metadata": {},
     "output_type": "execute_result"
    }
   ],
   "source": [
    "np.linalg.eig(cov) #regular eig and eigh gives the same in this case but possible to get others"
   ]
  },
  {
   "cell_type": "code",
   "execution_count": 129,
   "metadata": {},
   "outputs": [
    {
     "data": {
      "text/plain": [
       "matrix([[1., 0.],\n",
       "        [0., 1.]])"
      ]
     },
     "execution_count": 129,
     "metadata": {},
     "output_type": "execute_result"
    }
   ],
   "source": [
    "np.linalg.inv(M.T).dot(M) #there is a better way to do this with solve"
   ]
  },
  {
   "cell_type": "code",
   "execution_count": 130,
   "metadata": {},
   "outputs": [
    {
     "data": {
      "text/plain": [
       "matrix([[1.00000000e+00, 0.00000000e+00],\n",
       "        [1.23358114e-17, 1.00000000e+00]])"
      ]
     },
     "execution_count": 130,
     "metadata": {},
     "output_type": "execute_result"
    }
   ],
   "source": [
    "np.linalg.solve(M.T, M) #get the same answer as above, always use solve not inverse"
   ]
  },
  {
   "cell_type": "markdown",
   "metadata": {},
   "source": [
    "# Loading data into Python\n"
   ]
  },
  {
   "cell_type": "code",
   "execution_count": 38,
   "metadata": {},
   "outputs": [],
   "source": [
    "# data input\n",
    "X = []"
   ]
  },
  {
   "cell_type": "code",
   "execution_count": 35,
   "metadata": {},
   "outputs": [
    {
     "data": {
      "text/plain": [
       "<_io.TextIOWrapper name='data.csv' mode='r' encoding='UTF-8'>"
      ]
     },
     "execution_count": 35,
     "metadata": {},
     "output_type": "execute_result"
    }
   ],
   "source": [
    "open(\"data.csv\")"
   ]
  },
  {
   "cell_type": "code",
   "execution_count": 11,
   "metadata": {},
   "outputs": [
    {
     "data": {
      "text/plain": [
       "['a', 'b', 'c']"
      ]
     },
     "execution_count": 11,
     "metadata": {},
     "output_type": "execute_result"
    }
   ],
   "source": [
    "\"a.b.c\".split(\".\") # STRING METHODS"
   ]
  },
  {
   "cell_type": "code",
   "execution_count": 14,
   "metadata": {},
   "outputs": [
    {
     "data": {
      "text/plain": [
       "'a.b.c'"
      ]
     },
     "execution_count": 14,
     "metadata": {},
     "output_type": "execute_result"
    }
   ],
   "source": [
    " \"  a.b.c \".strip() # STRING METHODS"
   ]
  },
  {
   "cell_type": "code",
   "execution_count": 15,
   "metadata": {},
   "outputs": [
    {
     "data": {
      "text/plain": [
       "'a.b.c'"
      ]
     },
     "execution_count": 15,
     "metadata": {},
     "output_type": "execute_result"
    }
   ],
   "source": [
    "\"@a.b.c@\".strip(\"@\") # STRING METHODS"
   ]
  },
  {
   "cell_type": "code",
   "execution_count": 16,
   "metadata": {},
   "outputs": [
    {
     "data": {
      "text/plain": [
       "'@A.B.C@'"
      ]
     },
     "execution_count": 16,
     "metadata": {},
     "output_type": "execute_result"
    }
   ],
   "source": [
    "\"@a.b.c@\".upper() # STRING METHODS"
   ]
  },
  {
   "cell_type": "code",
   "execution_count": 17,
   "metadata": {},
   "outputs": [
    {
     "data": {
      "text/plain": [
       "'@a.b.c@'"
      ]
     },
     "execution_count": 17,
     "metadata": {},
     "output_type": "execute_result"
    }
   ],
   "source": [
    "\"@a.B.c@\".lower() # STRING METHODS"
   ]
  },
  {
   "cell_type": "code",
   "execution_count": 125,
   "metadata": {},
   "outputs": [],
   "source": [
    "X = []\n",
    "for line in open(\"data.csv\"):\n",
    "    row = line.split(\",\")\n",
    "    sample = list(map(str.strip, row)) # paython 2 and 3 are different in that python 3 uses list of map\n",
    "    sample = list(map(float, sample)) # float is a type \n",
    "    X.append(sample)"
   ]
  },
  {
   "cell_type": "code",
   "execution_count": 126,
   "metadata": {},
   "outputs": [],
   "source": [
    "X = np.array(X)"
   ]
  },
  {
   "cell_type": "code",
   "execution_count": 127,
   "metadata": {},
   "outputs": [
    {
     "data": {
      "text/plain": [
       "(21, 3)"
      ]
     },
     "execution_count": 127,
     "metadata": {},
     "output_type": "execute_result"
    }
   ],
   "source": [
    "X.shape"
   ]
  },
  {
   "cell_type": "code",
   "execution_count": 128,
   "metadata": {},
   "outputs": [
    {
     "data": {
      "text/plain": [
       "array([[2.0000e+03, 9.0990e+03, 1.2000e+01],\n",
       "       [2.0000e+03, 9.0100e+03, 1.1000e+01],\n",
       "       [2.0000e+03, 9.0110e+03, 1.1000e+01],\n",
       "       [2.0000e+03, 9.0120e+03, 1.1000e+01],\n",
       "       [2.0000e+03, 9.0130e+03, 1.1000e+01],\n",
       "       [2.0000e+03, 9.0240e+03, 1.1000e+01],\n",
       "       [2.0000e+03, 9.0350e+03, 1.1000e+01],\n",
       "       [2.0000e+03, 9.0460e+03, 1.1000e+01],\n",
       "       [2.0000e+03, 9.0470e+03, 1.1000e+01],\n",
       "       [2.0000e+03, 9.0480e+03, 1.1000e+01],\n",
       "       [2.0000e+03, 9.0590e+03, 1.1000e+01],\n",
       "       [2.0000e+03, 5.7160e+03, 6.0000e+00],\n",
       "       [2.0000e+03, 5.7160e+03, 6.0000e+00],\n",
       "       [2.0000e+03, 5.7160e+03, 8.0000e+00],\n",
       "       [2.0000e+03, 5.7170e+03, 9.0000e+00],\n",
       "       [2.0000e+03, 5.7200e+03, 9.0000e+00],\n",
       "       [2.0000e+03, 6.1932e+04, 6.1000e+01],\n",
       "       [2.0000e+03, 6.1932e+04, 6.1000e+01],\n",
       "       [2.0000e+03, 6.1932e+04, 6.1000e+01],\n",
       "       [2.0000e+03, 6.1932e+04, 6.1000e+01],\n",
       "       [2.0000e+03, 6.1932e+04, 6.1000e+01]])"
      ]
     },
     "execution_count": 128,
     "metadata": {},
     "output_type": "execute_result"
    }
   ],
   "source": [
    "X"
   ]
  },
  {
   "cell_type": "markdown",
   "metadata": {},
   "source": [
    "# The power of Pandas \n",
    "- Pandas is a library used for data analysis\n",
    "- Pandas is built on top of numpy\n",
    "- The main data structure is the dataframe   \n",
    "-- tabular data with labeled rows and columns  \n",
    "-- build on top of the numpy array structure  "
   ]
  },
  {
   "cell_type": "code",
   "execution_count": 4,
   "metadata": {},
   "outputs": [],
   "source": [
    "import pandas as pd"
   ]
  },
  {
   "cell_type": "code",
   "execution_count": 5,
   "metadata": {},
   "outputs": [],
   "source": [
    "X = pd.read_csv(\"data.csv\", header = None)"
   ]
  },
  {
   "cell_type": "code",
   "execution_count": 6,
   "metadata": {},
   "outputs": [
    {
     "data": {
      "text/plain": [
       "pandas.core.frame.DataFrame"
      ]
     },
     "execution_count": 6,
     "metadata": {},
     "output_type": "execute_result"
    }
   ],
   "source": [
    "type(X)"
   ]
  },
  {
   "cell_type": "code",
   "execution_count": 7,
   "metadata": {},
   "outputs": [
    {
     "name": "stdout",
     "output_type": "stream",
     "text": [
      "<class 'pandas.core.frame.DataFrame'>\n",
      "RangeIndex: 21 entries, 0 to 20\n",
      "Data columns (total 3 columns):\n",
      "0    21 non-null int64\n",
      "1    21 non-null int64\n",
      "2    21 non-null int64\n",
      "dtypes: int64(3)\n",
      "memory usage: 584.0 bytes\n"
     ]
    }
   ],
   "source": [
    "X.info()"
   ]
  },
  {
   "cell_type": "code",
   "execution_count": 8,
   "metadata": {},
   "outputs": [
    {
     "data": {
      "text/html": [
       "<div>\n",
       "<style scoped>\n",
       "    .dataframe tbody tr th:only-of-type {\n",
       "        vertical-align: middle;\n",
       "    }\n",
       "\n",
       "    .dataframe tbody tr th {\n",
       "        vertical-align: top;\n",
       "    }\n",
       "\n",
       "    .dataframe thead th {\n",
       "        text-align: right;\n",
       "    }\n",
       "</style>\n",
       "<table border=\"1\" class=\"dataframe\">\n",
       "  <thead>\n",
       "    <tr style=\"text-align: right;\">\n",
       "      <th></th>\n",
       "      <th>0</th>\n",
       "      <th>1</th>\n",
       "      <th>2</th>\n",
       "    </tr>\n",
       "  </thead>\n",
       "  <tbody>\n",
       "    <tr>\n",
       "      <th>0</th>\n",
       "      <td>2000</td>\n",
       "      <td>9099</td>\n",
       "      <td>12</td>\n",
       "    </tr>\n",
       "    <tr>\n",
       "      <th>1</th>\n",
       "      <td>2000</td>\n",
       "      <td>9010</td>\n",
       "      <td>11</td>\n",
       "    </tr>\n",
       "    <tr>\n",
       "      <th>2</th>\n",
       "      <td>2000</td>\n",
       "      <td>9011</td>\n",
       "      <td>11</td>\n",
       "    </tr>\n",
       "    <tr>\n",
       "      <th>3</th>\n",
       "      <td>2000</td>\n",
       "      <td>9012</td>\n",
       "      <td>11</td>\n",
       "    </tr>\n",
       "    <tr>\n",
       "      <th>4</th>\n",
       "      <td>2000</td>\n",
       "      <td>9013</td>\n",
       "      <td>11</td>\n",
       "    </tr>\n",
       "  </tbody>\n",
       "</table>\n",
       "</div>"
      ],
      "text/plain": [
       "      0     1   2\n",
       "0  2000  9099  12\n",
       "1  2000  9010  11\n",
       "2  2000  9011  11\n",
       "3  2000  9012  11\n",
       "4  2000  9013  11"
      ]
     },
     "execution_count": 8,
     "metadata": {},
     "output_type": "execute_result"
    }
   ],
   "source": [
    "X.head()"
   ]
  },
  {
   "cell_type": "code",
   "execution_count": 9,
   "metadata": {},
   "outputs": [
    {
     "data": {
      "text/html": [
       "<div>\n",
       "<style scoped>\n",
       "    .dataframe tbody tr th:only-of-type {\n",
       "        vertical-align: middle;\n",
       "    }\n",
       "\n",
       "    .dataframe tbody tr th {\n",
       "        vertical-align: top;\n",
       "    }\n",
       "\n",
       "    .dataframe thead th {\n",
       "        text-align: right;\n",
       "    }\n",
       "</style>\n",
       "<table border=\"1\" class=\"dataframe\">\n",
       "  <thead>\n",
       "    <tr style=\"text-align: right;\">\n",
       "      <th></th>\n",
       "      <th>0</th>\n",
       "      <th>1</th>\n",
       "      <th>2</th>\n",
       "    </tr>\n",
       "  </thead>\n",
       "  <tbody>\n",
       "    <tr>\n",
       "      <th>0</th>\n",
       "      <td>2000</td>\n",
       "      <td>9099</td>\n",
       "      <td>12</td>\n",
       "    </tr>\n",
       "    <tr>\n",
       "      <th>1</th>\n",
       "      <td>2000</td>\n",
       "      <td>9010</td>\n",
       "      <td>11</td>\n",
       "    </tr>\n",
       "    <tr>\n",
       "      <th>2</th>\n",
       "      <td>2000</td>\n",
       "      <td>9011</td>\n",
       "      <td>11</td>\n",
       "    </tr>\n",
       "    <tr>\n",
       "      <th>3</th>\n",
       "      <td>2000</td>\n",
       "      <td>9012</td>\n",
       "      <td>11</td>\n",
       "    </tr>\n",
       "    <tr>\n",
       "      <th>4</th>\n",
       "      <td>2000</td>\n",
       "      <td>9013</td>\n",
       "      <td>11</td>\n",
       "    </tr>\n",
       "    <tr>\n",
       "      <th>5</th>\n",
       "      <td>2000</td>\n",
       "      <td>9024</td>\n",
       "      <td>11</td>\n",
       "    </tr>\n",
       "    <tr>\n",
       "      <th>6</th>\n",
       "      <td>2000</td>\n",
       "      <td>9035</td>\n",
       "      <td>11</td>\n",
       "    </tr>\n",
       "    <tr>\n",
       "      <th>7</th>\n",
       "      <td>2000</td>\n",
       "      <td>9046</td>\n",
       "      <td>11</td>\n",
       "    </tr>\n",
       "    <tr>\n",
       "      <th>8</th>\n",
       "      <td>2000</td>\n",
       "      <td>9047</td>\n",
       "      <td>11</td>\n",
       "    </tr>\n",
       "    <tr>\n",
       "      <th>9</th>\n",
       "      <td>2000</td>\n",
       "      <td>9048</td>\n",
       "      <td>11</td>\n",
       "    </tr>\n",
       "  </tbody>\n",
       "</table>\n",
       "</div>"
      ],
      "text/plain": [
       "      0     1   2\n",
       "0  2000  9099  12\n",
       "1  2000  9010  11\n",
       "2  2000  9011  11\n",
       "3  2000  9012  11\n",
       "4  2000  9013  11\n",
       "5  2000  9024  11\n",
       "6  2000  9035  11\n",
       "7  2000  9046  11\n",
       "8  2000  9047  11\n",
       "9  2000  9048  11"
      ]
     },
     "execution_count": 9,
     "metadata": {},
     "output_type": "execute_result"
    }
   ],
   "source": [
    "X.head(10)"
   ]
  },
  {
   "cell_type": "code",
   "execution_count": 38,
   "metadata": {},
   "outputs": [
    {
     "data": {
      "text/html": [
       "<div>\n",
       "<style scoped>\n",
       "    .dataframe tbody tr th:only-of-type {\n",
       "        vertical-align: middle;\n",
       "    }\n",
       "\n",
       "    .dataframe tbody tr th {\n",
       "        vertical-align: top;\n",
       "    }\n",
       "\n",
       "    .dataframe thead th {\n",
       "        text-align: right;\n",
       "    }\n",
       "</style>\n",
       "<table border=\"1\" class=\"dataframe\">\n",
       "  <thead>\n",
       "    <tr style=\"text-align: right;\">\n",
       "      <th></th>\n",
       "      <th>0</th>\n",
       "      <th>1</th>\n",
       "      <th>2</th>\n",
       "    </tr>\n",
       "  </thead>\n",
       "  <tbody>\n",
       "    <tr>\n",
       "      <th>0</th>\n",
       "      <td>2000</td>\n",
       "      <td>9099</td>\n",
       "      <td>12</td>\n",
       "    </tr>\n",
       "    <tr>\n",
       "      <th>1</th>\n",
       "      <td>2000</td>\n",
       "      <td>9010</td>\n",
       "      <td>11</td>\n",
       "    </tr>\n",
       "    <tr>\n",
       "      <th>2</th>\n",
       "      <td>2000</td>\n",
       "      <td>9011</td>\n",
       "      <td>11</td>\n",
       "    </tr>\n",
       "    <tr>\n",
       "      <th>3</th>\n",
       "      <td>2000</td>\n",
       "      <td>9012</td>\n",
       "      <td>11</td>\n",
       "    </tr>\n",
       "    <tr>\n",
       "      <th>4</th>\n",
       "      <td>2000</td>\n",
       "      <td>9013</td>\n",
       "      <td>11</td>\n",
       "    </tr>\n",
       "  </tbody>\n",
       "</table>\n",
       "</div>"
      ],
      "text/plain": [
       "      0     1   2\n",
       "0  2000  9099  12\n",
       "1  2000  9010  11\n",
       "2  2000  9011  11\n",
       "3  2000  9012  11\n",
       "4  2000  9013  11"
      ]
     },
     "execution_count": 38,
     "metadata": {},
     "output_type": "execute_result"
    }
   ],
   "source": [
    "X.head()"
   ]
  },
  {
   "cell_type": "code",
   "execution_count": 10,
   "metadata": {},
   "outputs": [
    {
     "data": {
      "text/plain": [
       "(21, 3)"
      ]
     },
     "execution_count": 10,
     "metadata": {},
     "output_type": "execute_result"
    }
   ],
   "source": [
    "X.shape"
   ]
  },
  {
   "cell_type": "code",
   "execution_count": 21,
   "metadata": {},
   "outputs": [
    {
     "data": {
      "text/html": [
       "<div>\n",
       "<style scoped>\n",
       "    .dataframe tbody tr th:only-of-type {\n",
       "        vertical-align: middle;\n",
       "    }\n",
       "\n",
       "    .dataframe tbody tr th {\n",
       "        vertical-align: top;\n",
       "    }\n",
       "\n",
       "    .dataframe thead th {\n",
       "        text-align: right;\n",
       "    }\n",
       "</style>\n",
       "<table border=\"1\" class=\"dataframe\">\n",
       "  <thead>\n",
       "    <tr style=\"text-align: right;\">\n",
       "      <th></th>\n",
       "      <th>0</th>\n",
       "      <th>1</th>\n",
       "      <th>2</th>\n",
       "    </tr>\n",
       "  </thead>\n",
       "  <tbody>\n",
       "    <tr>\n",
       "      <th>0</th>\n",
       "      <td>2000</td>\n",
       "      <td>9099</td>\n",
       "      <td>12</td>\n",
       "    </tr>\n",
       "    <tr>\n",
       "      <th>1</th>\n",
       "      <td>2000</td>\n",
       "      <td>9010</td>\n",
       "      <td>11</td>\n",
       "    </tr>\n",
       "    <tr>\n",
       "      <th>2</th>\n",
       "      <td>2000</td>\n",
       "      <td>9011</td>\n",
       "      <td>11</td>\n",
       "    </tr>\n",
       "    <tr>\n",
       "      <th>3</th>\n",
       "      <td>2000</td>\n",
       "      <td>9012</td>\n",
       "      <td>11</td>\n",
       "    </tr>\n",
       "    <tr>\n",
       "      <th>4</th>\n",
       "      <td>2000</td>\n",
       "      <td>9013</td>\n",
       "      <td>11</td>\n",
       "    </tr>\n",
       "    <tr>\n",
       "      <th>5</th>\n",
       "      <td>2000</td>\n",
       "      <td>9024</td>\n",
       "      <td>11</td>\n",
       "    </tr>\n",
       "    <tr>\n",
       "      <th>6</th>\n",
       "      <td>2000</td>\n",
       "      <td>9035</td>\n",
       "      <td>11</td>\n",
       "    </tr>\n",
       "    <tr>\n",
       "      <th>7</th>\n",
       "      <td>2000</td>\n",
       "      <td>9046</td>\n",
       "      <td>11</td>\n",
       "    </tr>\n",
       "    <tr>\n",
       "      <th>8</th>\n",
       "      <td>2000</td>\n",
       "      <td>9047</td>\n",
       "      <td>11</td>\n",
       "    </tr>\n",
       "    <tr>\n",
       "      <th>9</th>\n",
       "      <td>2000</td>\n",
       "      <td>9048</td>\n",
       "      <td>11</td>\n",
       "    </tr>\n",
       "  </tbody>\n",
       "</table>\n",
       "</div>"
      ],
      "text/plain": [
       "      0     1   2\n",
       "0  2000  9099  12\n",
       "1  2000  9010  11\n",
       "2  2000  9011  11\n",
       "3  2000  9012  11\n",
       "4  2000  9013  11\n",
       "5  2000  9024  11\n",
       "6  2000  9035  11\n",
       "7  2000  9046  11\n",
       "8  2000  9047  11\n",
       "9  2000  9048  11"
      ]
     },
     "execution_count": 21,
     "metadata": {},
     "output_type": "execute_result"
    }
   ],
   "source": [
    "X.iloc[0:10] # if you want rows, need to give it index (10 rows)"
   ]
  },
  {
   "cell_type": "code",
   "execution_count": 22,
   "metadata": {},
   "outputs": [
    {
     "data": {
      "text/plain": [
       "0    2000\n",
       "1    9099\n",
       "2      12\n",
       "Name: 0, dtype: int64"
      ]
     },
     "execution_count": 22,
     "metadata": {},
     "output_type": "execute_result"
    }
   ],
   "source": [
    "X.iloc[0]"
   ]
  },
  {
   "cell_type": "code",
   "execution_count": 23,
   "metadata": {},
   "outputs": [
    {
     "data": {
      "text/plain": [
       "0     2000\n",
       "1    61932\n",
       "2       61\n",
       "Name: 20, dtype: int64"
      ]
     },
     "execution_count": 23,
     "metadata": {},
     "output_type": "execute_result"
    }
   ],
   "source": [
    "X.iloc[-1] # to get the last row"
   ]
  },
  {
   "cell_type": "code",
   "execution_count": 33,
   "metadata": {},
   "outputs": [
    {
     "data": {
      "text/html": [
       "<div>\n",
       "<style scoped>\n",
       "    .dataframe tbody tr th:only-of-type {\n",
       "        vertical-align: middle;\n",
       "    }\n",
       "\n",
       "    .dataframe tbody tr th {\n",
       "        vertical-align: top;\n",
       "    }\n",
       "\n",
       "    .dataframe thead th {\n",
       "        text-align: right;\n",
       "    }\n",
       "</style>\n",
       "<table border=\"1\" class=\"dataframe\">\n",
       "  <thead>\n",
       "    <tr style=\"text-align: right;\">\n",
       "      <th></th>\n",
       "      <th>1</th>\n",
       "      <th>2</th>\n",
       "    </tr>\n",
       "  </thead>\n",
       "  <tbody>\n",
       "    <tr>\n",
       "      <th>0</th>\n",
       "      <td>9099</td>\n",
       "      <td>12</td>\n",
       "    </tr>\n",
       "    <tr>\n",
       "      <th>1</th>\n",
       "      <td>9010</td>\n",
       "      <td>11</td>\n",
       "    </tr>\n",
       "    <tr>\n",
       "      <th>2</th>\n",
       "      <td>9011</td>\n",
       "      <td>11</td>\n",
       "    </tr>\n",
       "    <tr>\n",
       "      <th>3</th>\n",
       "      <td>9012</td>\n",
       "      <td>11</td>\n",
       "    </tr>\n",
       "    <tr>\n",
       "      <th>4</th>\n",
       "      <td>9013</td>\n",
       "      <td>11</td>\n",
       "    </tr>\n",
       "    <tr>\n",
       "      <th>5</th>\n",
       "      <td>9024</td>\n",
       "      <td>11</td>\n",
       "    </tr>\n",
       "    <tr>\n",
       "      <th>6</th>\n",
       "      <td>9035</td>\n",
       "      <td>11</td>\n",
       "    </tr>\n",
       "    <tr>\n",
       "      <th>7</th>\n",
       "      <td>9046</td>\n",
       "      <td>11</td>\n",
       "    </tr>\n",
       "    <tr>\n",
       "      <th>8</th>\n",
       "      <td>9047</td>\n",
       "      <td>11</td>\n",
       "    </tr>\n",
       "    <tr>\n",
       "      <th>9</th>\n",
       "      <td>9048</td>\n",
       "      <td>11</td>\n",
       "    </tr>\n",
       "    <tr>\n",
       "      <th>10</th>\n",
       "      <td>9059</td>\n",
       "      <td>11</td>\n",
       "    </tr>\n",
       "    <tr>\n",
       "      <th>11</th>\n",
       "      <td>5716</td>\n",
       "      <td>6</td>\n",
       "    </tr>\n",
       "    <tr>\n",
       "      <th>12</th>\n",
       "      <td>5716</td>\n",
       "      <td>6</td>\n",
       "    </tr>\n",
       "    <tr>\n",
       "      <th>13</th>\n",
       "      <td>5716</td>\n",
       "      <td>8</td>\n",
       "    </tr>\n",
       "    <tr>\n",
       "      <th>14</th>\n",
       "      <td>5717</td>\n",
       "      <td>9</td>\n",
       "    </tr>\n",
       "    <tr>\n",
       "      <th>15</th>\n",
       "      <td>5720</td>\n",
       "      <td>9</td>\n",
       "    </tr>\n",
       "    <tr>\n",
       "      <th>16</th>\n",
       "      <td>61932</td>\n",
       "      <td>61</td>\n",
       "    </tr>\n",
       "    <tr>\n",
       "      <th>17</th>\n",
       "      <td>61932</td>\n",
       "      <td>61</td>\n",
       "    </tr>\n",
       "    <tr>\n",
       "      <th>18</th>\n",
       "      <td>61932</td>\n",
       "      <td>61</td>\n",
       "    </tr>\n",
       "    <tr>\n",
       "      <th>19</th>\n",
       "      <td>61932</td>\n",
       "      <td>61</td>\n",
       "    </tr>\n",
       "    <tr>\n",
       "      <th>20</th>\n",
       "      <td>61932</td>\n",
       "      <td>61</td>\n",
       "    </tr>\n",
       "  </tbody>\n",
       "</table>\n",
       "</div>"
      ],
      "text/plain": [
       "        1   2\n",
       "0    9099  12\n",
       "1    9010  11\n",
       "2    9011  11\n",
       "3    9012  11\n",
       "4    9013  11\n",
       "5    9024  11\n",
       "6    9035  11\n",
       "7    9046  11\n",
       "8    9047  11\n",
       "9    9048  11\n",
       "10   9059  11\n",
       "11   5716   6\n",
       "12   5716   6\n",
       "13   5716   8\n",
       "14   5717   9\n",
       "15   5720   9\n",
       "16  61932  61\n",
       "17  61932  61\n",
       "18  61932  61\n",
       "19  61932  61\n",
       "20  61932  61"
      ]
     },
     "execution_count": 33,
     "metadata": {},
     "output_type": "execute_result"
    }
   ],
   "source": [
    "X.iloc[:,1:] # for all rows"
   ]
  },
  {
   "cell_type": "code",
   "execution_count": 30,
   "metadata": {},
   "outputs": [
    {
     "data": {
      "text/html": [
       "<div>\n",
       "<style scoped>\n",
       "    .dataframe tbody tr th:only-of-type {\n",
       "        vertical-align: middle;\n",
       "    }\n",
       "\n",
       "    .dataframe tbody tr th {\n",
       "        vertical-align: top;\n",
       "    }\n",
       "\n",
       "    .dataframe thead th {\n",
       "        text-align: right;\n",
       "    }\n",
       "</style>\n",
       "<table border=\"1\" class=\"dataframe\">\n",
       "  <thead>\n",
       "    <tr style=\"text-align: right;\">\n",
       "      <th></th>\n",
       "      <th>0</th>\n",
       "    </tr>\n",
       "  </thead>\n",
       "  <tbody>\n",
       "    <tr>\n",
       "      <th>0</th>\n",
       "      <td>2000</td>\n",
       "    </tr>\n",
       "    <tr>\n",
       "      <th>1</th>\n",
       "      <td>2000</td>\n",
       "    </tr>\n",
       "    <tr>\n",
       "      <th>2</th>\n",
       "      <td>2000</td>\n",
       "    </tr>\n",
       "    <tr>\n",
       "      <th>3</th>\n",
       "      <td>2000</td>\n",
       "    </tr>\n",
       "    <tr>\n",
       "      <th>4</th>\n",
       "      <td>2000</td>\n",
       "    </tr>\n",
       "  </tbody>\n",
       "</table>\n",
       "</div>"
      ],
      "text/plain": [
       "      0\n",
       "0  2000\n",
       "1  2000\n",
       "2  2000\n",
       "3  2000\n",
       "4  2000"
      ]
     },
     "execution_count": 30,
     "metadata": {},
     "output_type": "execute_result"
    }
   ],
   "source": [
    "X.iloc[:5,:1]"
   ]
  },
  {
   "cell_type": "code",
   "execution_count": 12,
   "metadata": {},
   "outputs": [
    {
     "name": "stderr",
     "output_type": "stream",
     "text": [
      "/anaconda3/envs/learning-env/lib/python3.7/site-packages/ipykernel_launcher.py:1: FutureWarning: Method .as_matrix will be removed in a future version. Use .values instead.\n",
      "  \"\"\"Entry point for launching an IPython kernel.\n"
     ]
    }
   ],
   "source": [
    "M = X.as_matrix()"
   ]
  },
  {
   "cell_type": "code",
   "execution_count": 14,
   "metadata": {},
   "outputs": [
    {
     "data": {
      "text/plain": [
       "numpy.ndarray"
      ]
     },
     "execution_count": 14,
     "metadata": {},
     "output_type": "execute_result"
    }
   ],
   "source": [
    "type(M)"
   ]
  },
  {
   "cell_type": "code",
   "execution_count": 15,
   "metadata": {},
   "outputs": [
    {
     "data": {
      "text/plain": [
       "0     2000\n",
       "1     2000\n",
       "2     2000\n",
       "3     2000\n",
       "4     2000\n",
       "5     2000\n",
       "6     2000\n",
       "7     2000\n",
       "8     2000\n",
       "9     2000\n",
       "10    2000\n",
       "11    2000\n",
       "12    2000\n",
       "13    2000\n",
       "14    2000\n",
       "15    2000\n",
       "16    2000\n",
       "17    2000\n",
       "18    2000\n",
       "19    2000\n",
       "20    2000\n",
       "Name: 0, dtype: int64"
      ]
     },
     "execution_count": 15,
     "metadata": {},
     "output_type": "execute_result"
    }
   ],
   "source": [
    "X[0] # pandas is header based: returns the column with the name of 0"
   ]
  },
  {
   "cell_type": "code",
   "execution_count": 37,
   "metadata": {},
   "outputs": [
    {
     "data": {
      "text/plain": [
       "0      9099\n",
       "1      9010\n",
       "2      9011\n",
       "3      9012\n",
       "4      9013\n",
       "5      9024\n",
       "6      9035\n",
       "7      9046\n",
       "8      9047\n",
       "9      9048\n",
       "10     9059\n",
       "11     5716\n",
       "12     5716\n",
       "13     5716\n",
       "14     5717\n",
       "15     5720\n",
       "16    61932\n",
       "17    61932\n",
       "18    61932\n",
       "19    61932\n",
       "20    61932\n",
       "Name: 1, dtype: int64"
      ]
     },
     "execution_count": 37,
     "metadata": {},
     "output_type": "execute_result"
    }
   ],
   "source": [
    "X[1]"
   ]
  },
  {
   "cell_type": "code",
   "execution_count": 39,
   "metadata": {},
   "outputs": [
    {
     "data": {
      "text/plain": [
       "pandas.core.series.Series"
      ]
     },
     "execution_count": 39,
     "metadata": {},
     "output_type": "execute_result"
    }
   ],
   "source": [
    "type(X[0])"
   ]
  },
  {
   "cell_type": "code",
   "execution_count": 57,
   "metadata": {},
   "outputs": [
    {
     "data": {
      "text/plain": [
       "pandas.core.series.Series"
      ]
     },
     "execution_count": 57,
     "metadata": {},
     "output_type": "execute_result"
    }
   ],
   "source": [
    "type(X[0] < 5)"
   ]
  },
  {
   "cell_type": "code",
   "execution_count": 40,
   "metadata": {},
   "outputs": [
    {
     "name": "stderr",
     "output_type": "stream",
     "text": [
      "/anaconda3/envs/learning-env/lib/python3.7/site-packages/ipykernel_launcher.py:1: DeprecationWarning: \n",
      ".ix is deprecated. Please use\n",
      ".loc for label based indexing or\n",
      ".iloc for positional indexing\n",
      "\n",
      "See the documentation here:\n",
      "http://pandas.pydata.org/pandas-docs/stable/indexing.html#ix-indexer-is-deprecated\n",
      "  \"\"\"Entry point for launching an IPython kernel.\n"
     ]
    },
    {
     "data": {
      "text/plain": [
       "0    2000\n",
       "1    9099\n",
       "2      12\n",
       "Name: 0, dtype: int64"
      ]
     },
     "execution_count": 40,
     "metadata": {},
     "output_type": "execute_result"
    }
   ],
   "source": [
    "X.ix[0]"
   ]
  },
  {
   "cell_type": "code",
   "execution_count": 42,
   "metadata": {},
   "outputs": [
    {
     "data": {
      "text/html": [
       "<div>\n",
       "<style scoped>\n",
       "    .dataframe tbody tr th:only-of-type {\n",
       "        vertical-align: middle;\n",
       "    }\n",
       "\n",
       "    .dataframe tbody tr th {\n",
       "        vertical-align: top;\n",
       "    }\n",
       "\n",
       "    .dataframe thead th {\n",
       "        text-align: right;\n",
       "    }\n",
       "</style>\n",
       "<table border=\"1\" class=\"dataframe\">\n",
       "  <thead>\n",
       "    <tr style=\"text-align: right;\">\n",
       "      <th></th>\n",
       "      <th>0</th>\n",
       "      <th>1</th>\n",
       "      <th>2</th>\n",
       "    </tr>\n",
       "  </thead>\n",
       "  <tbody>\n",
       "    <tr>\n",
       "      <th>0</th>\n",
       "      <td>2000</td>\n",
       "      <td>9099</td>\n",
       "      <td>12</td>\n",
       "    </tr>\n",
       "    <tr>\n",
       "      <th>1</th>\n",
       "      <td>2000</td>\n",
       "      <td>9010</td>\n",
       "      <td>11</td>\n",
       "    </tr>\n",
       "    <tr>\n",
       "      <th>2</th>\n",
       "      <td>2000</td>\n",
       "      <td>9011</td>\n",
       "      <td>11</td>\n",
       "    </tr>\n",
       "    <tr>\n",
       "      <th>3</th>\n",
       "      <td>2000</td>\n",
       "      <td>9012</td>\n",
       "      <td>11</td>\n",
       "    </tr>\n",
       "    <tr>\n",
       "      <th>4</th>\n",
       "      <td>2000</td>\n",
       "      <td>9013</td>\n",
       "      <td>11</td>\n",
       "    </tr>\n",
       "    <tr>\n",
       "      <th>5</th>\n",
       "      <td>2000</td>\n",
       "      <td>9024</td>\n",
       "      <td>11</td>\n",
       "    </tr>\n",
       "    <tr>\n",
       "      <th>6</th>\n",
       "      <td>2000</td>\n",
       "      <td>9035</td>\n",
       "      <td>11</td>\n",
       "    </tr>\n",
       "    <tr>\n",
       "      <th>7</th>\n",
       "      <td>2000</td>\n",
       "      <td>9046</td>\n",
       "      <td>11</td>\n",
       "    </tr>\n",
       "    <tr>\n",
       "      <th>8</th>\n",
       "      <td>2000</td>\n",
       "      <td>9047</td>\n",
       "      <td>11</td>\n",
       "    </tr>\n",
       "    <tr>\n",
       "      <th>9</th>\n",
       "      <td>2000</td>\n",
       "      <td>9048</td>\n",
       "      <td>11</td>\n",
       "    </tr>\n",
       "    <tr>\n",
       "      <th>10</th>\n",
       "      <td>2000</td>\n",
       "      <td>9059</td>\n",
       "      <td>11</td>\n",
       "    </tr>\n",
       "    <tr>\n",
       "      <th>11</th>\n",
       "      <td>2000</td>\n",
       "      <td>5716</td>\n",
       "      <td>6</td>\n",
       "    </tr>\n",
       "    <tr>\n",
       "      <th>12</th>\n",
       "      <td>2000</td>\n",
       "      <td>5716</td>\n",
       "      <td>6</td>\n",
       "    </tr>\n",
       "    <tr>\n",
       "      <th>13</th>\n",
       "      <td>2000</td>\n",
       "      <td>5716</td>\n",
       "      <td>8</td>\n",
       "    </tr>\n",
       "    <tr>\n",
       "      <th>14</th>\n",
       "      <td>2000</td>\n",
       "      <td>5717</td>\n",
       "      <td>9</td>\n",
       "    </tr>\n",
       "    <tr>\n",
       "      <th>15</th>\n",
       "      <td>2000</td>\n",
       "      <td>5720</td>\n",
       "      <td>9</td>\n",
       "    </tr>\n",
       "    <tr>\n",
       "      <th>16</th>\n",
       "      <td>2000</td>\n",
       "      <td>61932</td>\n",
       "      <td>61</td>\n",
       "    </tr>\n",
       "    <tr>\n",
       "      <th>17</th>\n",
       "      <td>2000</td>\n",
       "      <td>61932</td>\n",
       "      <td>61</td>\n",
       "    </tr>\n",
       "    <tr>\n",
       "      <th>18</th>\n",
       "      <td>2000</td>\n",
       "      <td>61932</td>\n",
       "      <td>61</td>\n",
       "    </tr>\n",
       "    <tr>\n",
       "      <th>19</th>\n",
       "      <td>2000</td>\n",
       "      <td>61932</td>\n",
       "      <td>61</td>\n",
       "    </tr>\n",
       "    <tr>\n",
       "      <th>20</th>\n",
       "      <td>2000</td>\n",
       "      <td>61932</td>\n",
       "      <td>61</td>\n",
       "    </tr>\n",
       "  </tbody>\n",
       "</table>\n",
       "</div>"
      ],
      "text/plain": [
       "       0      1   2\n",
       "0   2000   9099  12\n",
       "1   2000   9010  11\n",
       "2   2000   9011  11\n",
       "3   2000   9012  11\n",
       "4   2000   9013  11\n",
       "5   2000   9024  11\n",
       "6   2000   9035  11\n",
       "7   2000   9046  11\n",
       "8   2000   9047  11\n",
       "9   2000   9048  11\n",
       "10  2000   9059  11\n",
       "11  2000   5716   6\n",
       "12  2000   5716   6\n",
       "13  2000   5716   8\n",
       "14  2000   5717   9\n",
       "15  2000   5720   9\n",
       "16  2000  61932  61\n",
       "17  2000  61932  61\n",
       "18  2000  61932  61\n",
       "19  2000  61932  61\n",
       "20  2000  61932  61"
      ]
     },
     "execution_count": 42,
     "metadata": {},
     "output_type": "execute_result"
    }
   ],
   "source": [
    "X[[0,1,2]]"
   ]
  },
  {
   "cell_type": "code",
   "execution_count": 47,
   "metadata": {},
   "outputs": [
    {
     "data": {
      "text/html": [
       "<div>\n",
       "<style scoped>\n",
       "    .dataframe tbody tr th:only-of-type {\n",
       "        vertical-align: middle;\n",
       "    }\n",
       "\n",
       "    .dataframe tbody tr th {\n",
       "        vertical-align: top;\n",
       "    }\n",
       "\n",
       "    .dataframe thead th {\n",
       "        text-align: right;\n",
       "    }\n",
       "</style>\n",
       "<table border=\"1\" class=\"dataframe\">\n",
       "  <thead>\n",
       "    <tr style=\"text-align: right;\">\n",
       "      <th></th>\n",
       "      <th>0</th>\n",
       "      <th>1</th>\n",
       "      <th>2</th>\n",
       "    </tr>\n",
       "  </thead>\n",
       "  <tbody>\n",
       "    <tr>\n",
       "      <th>0</th>\n",
       "      <td>2000</td>\n",
       "      <td>9099</td>\n",
       "      <td>12</td>\n",
       "    </tr>\n",
       "    <tr>\n",
       "      <th>1</th>\n",
       "      <td>2000</td>\n",
       "      <td>9010</td>\n",
       "      <td>11</td>\n",
       "    </tr>\n",
       "    <tr>\n",
       "      <th>2</th>\n",
       "      <td>2000</td>\n",
       "      <td>9011</td>\n",
       "      <td>11</td>\n",
       "    </tr>\n",
       "    <tr>\n",
       "      <th>3</th>\n",
       "      <td>2000</td>\n",
       "      <td>9012</td>\n",
       "      <td>11</td>\n",
       "    </tr>\n",
       "    <tr>\n",
       "      <th>4</th>\n",
       "      <td>2000</td>\n",
       "      <td>9013</td>\n",
       "      <td>11</td>\n",
       "    </tr>\n",
       "    <tr>\n",
       "      <th>5</th>\n",
       "      <td>2000</td>\n",
       "      <td>9024</td>\n",
       "      <td>11</td>\n",
       "    </tr>\n",
       "    <tr>\n",
       "      <th>6</th>\n",
       "      <td>2000</td>\n",
       "      <td>9035</td>\n",
       "      <td>11</td>\n",
       "    </tr>\n",
       "    <tr>\n",
       "      <th>7</th>\n",
       "      <td>2000</td>\n",
       "      <td>9046</td>\n",
       "      <td>11</td>\n",
       "    </tr>\n",
       "    <tr>\n",
       "      <th>8</th>\n",
       "      <td>2000</td>\n",
       "      <td>9047</td>\n",
       "      <td>11</td>\n",
       "    </tr>\n",
       "    <tr>\n",
       "      <th>9</th>\n",
       "      <td>2000</td>\n",
       "      <td>9048</td>\n",
       "      <td>11</td>\n",
       "    </tr>\n",
       "    <tr>\n",
       "      <th>10</th>\n",
       "      <td>2000</td>\n",
       "      <td>9059</td>\n",
       "      <td>11</td>\n",
       "    </tr>\n",
       "    <tr>\n",
       "      <th>16</th>\n",
       "      <td>2000</td>\n",
       "      <td>61932</td>\n",
       "      <td>61</td>\n",
       "    </tr>\n",
       "    <tr>\n",
       "      <th>17</th>\n",
       "      <td>2000</td>\n",
       "      <td>61932</td>\n",
       "      <td>61</td>\n",
       "    </tr>\n",
       "    <tr>\n",
       "      <th>18</th>\n",
       "      <td>2000</td>\n",
       "      <td>61932</td>\n",
       "      <td>61</td>\n",
       "    </tr>\n",
       "    <tr>\n",
       "      <th>19</th>\n",
       "      <td>2000</td>\n",
       "      <td>61932</td>\n",
       "      <td>61</td>\n",
       "    </tr>\n",
       "    <tr>\n",
       "      <th>20</th>\n",
       "      <td>2000</td>\n",
       "      <td>61932</td>\n",
       "      <td>61</td>\n",
       "    </tr>\n",
       "  </tbody>\n",
       "</table>\n",
       "</div>"
      ],
      "text/plain": [
       "       0      1   2\n",
       "0   2000   9099  12\n",
       "1   2000   9010  11\n",
       "2   2000   9011  11\n",
       "3   2000   9012  11\n",
       "4   2000   9013  11\n",
       "5   2000   9024  11\n",
       "6   2000   9035  11\n",
       "7   2000   9046  11\n",
       "8   2000   9047  11\n",
       "9   2000   9048  11\n",
       "10  2000   9059  11\n",
       "16  2000  61932  61\n",
       "17  2000  61932  61\n",
       "18  2000  61932  61\n",
       "19  2000  61932  61\n",
       "20  2000  61932  61"
      ]
     },
     "execution_count": 47,
     "metadata": {},
     "output_type": "execute_result"
    }
   ],
   "source": [
    "X[X[1]>6000]"
   ]
  },
  {
   "cell_type": "code",
   "execution_count": 53,
   "metadata": {},
   "outputs": [
    {
     "data": {
      "text/html": [
       "<div>\n",
       "<style scoped>\n",
       "    .dataframe tbody tr th:only-of-type {\n",
       "        vertical-align: middle;\n",
       "    }\n",
       "\n",
       "    .dataframe tbody tr th {\n",
       "        vertical-align: top;\n",
       "    }\n",
       "\n",
       "    .dataframe thead th {\n",
       "        text-align: right;\n",
       "    }\n",
       "</style>\n",
       "<table border=\"1\" class=\"dataframe\">\n",
       "  <thead>\n",
       "    <tr style=\"text-align: right;\">\n",
       "      <th></th>\n",
       "      <th>0</th>\n",
       "      <th>1</th>\n",
       "      <th>2</th>\n",
       "    </tr>\n",
       "  </thead>\n",
       "  <tbody>\n",
       "    <tr>\n",
       "      <th>0</th>\n",
       "      <td>2000</td>\n",
       "      <td>9099</td>\n",
       "      <td>12</td>\n",
       "    </tr>\n",
       "    <tr>\n",
       "      <th>1</th>\n",
       "      <td>2000</td>\n",
       "      <td>9010</td>\n",
       "      <td>11</td>\n",
       "    </tr>\n",
       "    <tr>\n",
       "      <th>2</th>\n",
       "      <td>2000</td>\n",
       "      <td>9011</td>\n",
       "      <td>11</td>\n",
       "    </tr>\n",
       "    <tr>\n",
       "      <th>3</th>\n",
       "      <td>2000</td>\n",
       "      <td>9012</td>\n",
       "      <td>11</td>\n",
       "    </tr>\n",
       "    <tr>\n",
       "      <th>4</th>\n",
       "      <td>2000</td>\n",
       "      <td>9013</td>\n",
       "      <td>11</td>\n",
       "    </tr>\n",
       "    <tr>\n",
       "      <th>5</th>\n",
       "      <td>2000</td>\n",
       "      <td>9024</td>\n",
       "      <td>11</td>\n",
       "    </tr>\n",
       "    <tr>\n",
       "      <th>6</th>\n",
       "      <td>2000</td>\n",
       "      <td>9035</td>\n",
       "      <td>11</td>\n",
       "    </tr>\n",
       "    <tr>\n",
       "      <th>7</th>\n",
       "      <td>2000</td>\n",
       "      <td>9046</td>\n",
       "      <td>11</td>\n",
       "    </tr>\n",
       "    <tr>\n",
       "      <th>8</th>\n",
       "      <td>2000</td>\n",
       "      <td>9047</td>\n",
       "      <td>11</td>\n",
       "    </tr>\n",
       "    <tr>\n",
       "      <th>9</th>\n",
       "      <td>2000</td>\n",
       "      <td>9048</td>\n",
       "      <td>11</td>\n",
       "    </tr>\n",
       "    <tr>\n",
       "      <th>10</th>\n",
       "      <td>2000</td>\n",
       "      <td>9059</td>\n",
       "      <td>11</td>\n",
       "    </tr>\n",
       "    <tr>\n",
       "      <th>16</th>\n",
       "      <td>2000</td>\n",
       "      <td>61932</td>\n",
       "      <td>61</td>\n",
       "    </tr>\n",
       "    <tr>\n",
       "      <th>17</th>\n",
       "      <td>2000</td>\n",
       "      <td>61932</td>\n",
       "      <td>61</td>\n",
       "    </tr>\n",
       "    <tr>\n",
       "      <th>18</th>\n",
       "      <td>2000</td>\n",
       "      <td>61932</td>\n",
       "      <td>61</td>\n",
       "    </tr>\n",
       "    <tr>\n",
       "      <th>19</th>\n",
       "      <td>2000</td>\n",
       "      <td>61932</td>\n",
       "      <td>61</td>\n",
       "    </tr>\n",
       "    <tr>\n",
       "      <th>20</th>\n",
       "      <td>2000</td>\n",
       "      <td>61932</td>\n",
       "      <td>61</td>\n",
       "    </tr>\n",
       "  </tbody>\n",
       "</table>\n",
       "</div>"
      ],
      "text/plain": [
       "       0      1   2\n",
       "0   2000   9099  12\n",
       "1   2000   9010  11\n",
       "2   2000   9011  11\n",
       "3   2000   9012  11\n",
       "4   2000   9013  11\n",
       "5   2000   9024  11\n",
       "6   2000   9035  11\n",
       "7   2000   9046  11\n",
       "8   2000   9047  11\n",
       "9   2000   9048  11\n",
       "10  2000   9059  11\n",
       "16  2000  61932  61\n",
       "17  2000  61932  61\n",
       "18  2000  61932  61\n",
       "19  2000  61932  61\n",
       "20  2000  61932  61"
      ]
     },
     "execution_count": 53,
     "metadata": {},
     "output_type": "execute_result"
    }
   ],
   "source": [
    "X[X.iloc[:,1]>6000] # same as line 47"
   ]
  },
  {
   "cell_type": "code",
   "execution_count": 60,
   "metadata": {},
   "outputs": [
    {
     "data": {
      "text/plain": [
       "pandas.core.frame.DataFrame"
      ]
     },
     "execution_count": 60,
     "metadata": {},
     "output_type": "execute_result"
    }
   ],
   "source": [
    "type(X[[0,1,2]])"
   ]
  },
  {
   "cell_type": "code",
   "execution_count": 61,
   "metadata": {},
   "outputs": [],
   "source": [
    "X.columns = [\"h1\", \"h2\", \"h3\"]"
   ]
  },
  {
   "cell_type": "code",
   "execution_count": 64,
   "metadata": {},
   "outputs": [
    {
     "data": {
      "text/html": [
       "<div>\n",
       "<style scoped>\n",
       "    .dataframe tbody tr th:only-of-type {\n",
       "        vertical-align: middle;\n",
       "    }\n",
       "\n",
       "    .dataframe tbody tr th {\n",
       "        vertical-align: top;\n",
       "    }\n",
       "\n",
       "    .dataframe thead th {\n",
       "        text-align: right;\n",
       "    }\n",
       "</style>\n",
       "<table border=\"1\" class=\"dataframe\">\n",
       "  <thead>\n",
       "    <tr style=\"text-align: right;\">\n",
       "      <th></th>\n",
       "      <th>h1</th>\n",
       "      <th>h2</th>\n",
       "      <th>h3</th>\n",
       "    </tr>\n",
       "  </thead>\n",
       "  <tbody>\n",
       "    <tr>\n",
       "      <th>0</th>\n",
       "      <td>2000</td>\n",
       "      <td>9099</td>\n",
       "      <td>12</td>\n",
       "    </tr>\n",
       "    <tr>\n",
       "      <th>1</th>\n",
       "      <td>2000</td>\n",
       "      <td>9010</td>\n",
       "      <td>11</td>\n",
       "    </tr>\n",
       "    <tr>\n",
       "      <th>2</th>\n",
       "      <td>2000</td>\n",
       "      <td>9011</td>\n",
       "      <td>11</td>\n",
       "    </tr>\n",
       "    <tr>\n",
       "      <th>3</th>\n",
       "      <td>2000</td>\n",
       "      <td>9012</td>\n",
       "      <td>11</td>\n",
       "    </tr>\n",
       "    <tr>\n",
       "      <th>4</th>\n",
       "      <td>2000</td>\n",
       "      <td>9013</td>\n",
       "      <td>11</td>\n",
       "    </tr>\n",
       "    <tr>\n",
       "      <th>5</th>\n",
       "      <td>2000</td>\n",
       "      <td>9024</td>\n",
       "      <td>11</td>\n",
       "    </tr>\n",
       "    <tr>\n",
       "      <th>6</th>\n",
       "      <td>2000</td>\n",
       "      <td>9035</td>\n",
       "      <td>11</td>\n",
       "    </tr>\n",
       "    <tr>\n",
       "      <th>7</th>\n",
       "      <td>2000</td>\n",
       "      <td>9046</td>\n",
       "      <td>11</td>\n",
       "    </tr>\n",
       "    <tr>\n",
       "      <th>8</th>\n",
       "      <td>2000</td>\n",
       "      <td>9047</td>\n",
       "      <td>11</td>\n",
       "    </tr>\n",
       "    <tr>\n",
       "      <th>9</th>\n",
       "      <td>2000</td>\n",
       "      <td>9048</td>\n",
       "      <td>11</td>\n",
       "    </tr>\n",
       "    <tr>\n",
       "      <th>10</th>\n",
       "      <td>2000</td>\n",
       "      <td>9059</td>\n",
       "      <td>11</td>\n",
       "    </tr>\n",
       "    <tr>\n",
       "      <th>11</th>\n",
       "      <td>2000</td>\n",
       "      <td>5716</td>\n",
       "      <td>6</td>\n",
       "    </tr>\n",
       "    <tr>\n",
       "      <th>12</th>\n",
       "      <td>2000</td>\n",
       "      <td>5716</td>\n",
       "      <td>6</td>\n",
       "    </tr>\n",
       "    <tr>\n",
       "      <th>13</th>\n",
       "      <td>2000</td>\n",
       "      <td>5716</td>\n",
       "      <td>8</td>\n",
       "    </tr>\n",
       "    <tr>\n",
       "      <th>14</th>\n",
       "      <td>2000</td>\n",
       "      <td>5717</td>\n",
       "      <td>9</td>\n",
       "    </tr>\n",
       "    <tr>\n",
       "      <th>15</th>\n",
       "      <td>2000</td>\n",
       "      <td>5720</td>\n",
       "      <td>9</td>\n",
       "    </tr>\n",
       "    <tr>\n",
       "      <th>16</th>\n",
       "      <td>2000</td>\n",
       "      <td>61932</td>\n",
       "      <td>61</td>\n",
       "    </tr>\n",
       "    <tr>\n",
       "      <th>17</th>\n",
       "      <td>2000</td>\n",
       "      <td>61932</td>\n",
       "      <td>61</td>\n",
       "    </tr>\n",
       "    <tr>\n",
       "      <th>18</th>\n",
       "      <td>2000</td>\n",
       "      <td>61932</td>\n",
       "      <td>61</td>\n",
       "    </tr>\n",
       "    <tr>\n",
       "      <th>19</th>\n",
       "      <td>2000</td>\n",
       "      <td>61932</td>\n",
       "      <td>61</td>\n",
       "    </tr>\n",
       "    <tr>\n",
       "      <th>20</th>\n",
       "      <td>2000</td>\n",
       "      <td>61932</td>\n",
       "      <td>61</td>\n",
       "    </tr>\n",
       "  </tbody>\n",
       "</table>\n",
       "</div>"
      ],
      "text/plain": [
       "      h1     h2  h3\n",
       "0   2000   9099  12\n",
       "1   2000   9010  11\n",
       "2   2000   9011  11\n",
       "3   2000   9012  11\n",
       "4   2000   9013  11\n",
       "5   2000   9024  11\n",
       "6   2000   9035  11\n",
       "7   2000   9046  11\n",
       "8   2000   9047  11\n",
       "9   2000   9048  11\n",
       "10  2000   9059  11\n",
       "11  2000   5716   6\n",
       "12  2000   5716   6\n",
       "13  2000   5716   8\n",
       "14  2000   5717   9\n",
       "15  2000   5720   9\n",
       "16  2000  61932  61\n",
       "17  2000  61932  61\n",
       "18  2000  61932  61\n",
       "19  2000  61932  61\n",
       "20  2000  61932  61"
      ]
     },
     "execution_count": 64,
     "metadata": {},
     "output_type": "execute_result"
    }
   ],
   "source": [
    "X"
   ]
  },
  {
   "cell_type": "code",
   "execution_count": 66,
   "metadata": {},
   "outputs": [
    {
     "data": {
      "text/plain": [
       "0     2000\n",
       "1     2000\n",
       "2     2000\n",
       "3     2000\n",
       "4     2000\n",
       "5     2000\n",
       "6     2000\n",
       "7     2000\n",
       "8     2000\n",
       "9     2000\n",
       "10    2000\n",
       "11    2000\n",
       "12    2000\n",
       "13    2000\n",
       "14    2000\n",
       "15    2000\n",
       "16    2000\n",
       "17    2000\n",
       "18    2000\n",
       "19    2000\n",
       "20    2000\n",
       "Name: h1, dtype: int64"
      ]
     },
     "execution_count": 66,
     "metadata": {},
     "output_type": "execute_result"
    }
   ],
   "source": [
    "X[\"h1\"]"
   ]
  },
  {
   "cell_type": "code",
   "execution_count": 67,
   "metadata": {},
   "outputs": [
    {
     "data": {
      "text/plain": [
       "0     2000\n",
       "1     2000\n",
       "2     2000\n",
       "3     2000\n",
       "4     2000\n",
       "5     2000\n",
       "6     2000\n",
       "7     2000\n",
       "8     2000\n",
       "9     2000\n",
       "10    2000\n",
       "11    2000\n",
       "12    2000\n",
       "13    2000\n",
       "14    2000\n",
       "15    2000\n",
       "16    2000\n",
       "17    2000\n",
       "18    2000\n",
       "19    2000\n",
       "20    2000\n",
       "Name: h1, dtype: int64"
      ]
     },
     "execution_count": 67,
     "metadata": {},
     "output_type": "execute_result"
    }
   ],
   "source": [
    "X.iloc[:,0] # all rows, first column"
   ]
  },
  {
   "cell_type": "code",
   "execution_count": 70,
   "metadata": {},
   "outputs": [
    {
     "data": {
      "text/plain": [
       "0     2000\n",
       "1     2000\n",
       "2     2000\n",
       "3     2000\n",
       "4     2000\n",
       "5     2000\n",
       "6     2000\n",
       "7     2000\n",
       "8     2000\n",
       "9     2000\n",
       "10    2000\n",
       "11    2000\n",
       "12    2000\n",
       "13    2000\n",
       "14    2000\n",
       "15    2000\n",
       "16    2000\n",
       "17    2000\n",
       "18    2000\n",
       "19    2000\n",
       "20    2000\n",
       "Name: h1, dtype: int64"
      ]
     },
     "execution_count": 70,
     "metadata": {},
     "output_type": "execute_result"
    }
   ],
   "source": [
    "X.h1"
   ]
  },
  {
   "cell_type": "code",
   "execution_count": 77,
   "metadata": {},
   "outputs": [],
   "source": [
    "X[\"hellos\"] = \"hello\""
   ]
  },
  {
   "cell_type": "code",
   "execution_count": 78,
   "metadata": {},
   "outputs": [],
   "source": [
    "X[\"goodbyes\"] = \"goodbye\""
   ]
  },
  {
   "cell_type": "code",
   "execution_count": 79,
   "metadata": {},
   "outputs": [
    {
     "data": {
      "text/html": [
       "<div>\n",
       "<style scoped>\n",
       "    .dataframe tbody tr th:only-of-type {\n",
       "        vertical-align: middle;\n",
       "    }\n",
       "\n",
       "    .dataframe tbody tr th {\n",
       "        vertical-align: top;\n",
       "    }\n",
       "\n",
       "    .dataframe thead th {\n",
       "        text-align: right;\n",
       "    }\n",
       "</style>\n",
       "<table border=\"1\" class=\"dataframe\">\n",
       "  <thead>\n",
       "    <tr style=\"text-align: right;\">\n",
       "      <th></th>\n",
       "      <th>h1</th>\n",
       "      <th>h2</th>\n",
       "      <th>h3</th>\n",
       "      <th>hellos</th>\n",
       "      <th>goodbye</th>\n",
       "      <th>goodbyes</th>\n",
       "    </tr>\n",
       "  </thead>\n",
       "  <tbody>\n",
       "    <tr>\n",
       "      <th>0</th>\n",
       "      <td>2000</td>\n",
       "      <td>9099</td>\n",
       "      <td>12</td>\n",
       "      <td>hello</td>\n",
       "      <td>goodbye</td>\n",
       "      <td>goodbye</td>\n",
       "    </tr>\n",
       "    <tr>\n",
       "      <th>1</th>\n",
       "      <td>2000</td>\n",
       "      <td>9010</td>\n",
       "      <td>11</td>\n",
       "      <td>hello</td>\n",
       "      <td>goodbye</td>\n",
       "      <td>goodbye</td>\n",
       "    </tr>\n",
       "    <tr>\n",
       "      <th>2</th>\n",
       "      <td>2000</td>\n",
       "      <td>9011</td>\n",
       "      <td>11</td>\n",
       "      <td>hello</td>\n",
       "      <td>goodbye</td>\n",
       "      <td>goodbye</td>\n",
       "    </tr>\n",
       "    <tr>\n",
       "      <th>3</th>\n",
       "      <td>2000</td>\n",
       "      <td>9012</td>\n",
       "      <td>11</td>\n",
       "      <td>hello</td>\n",
       "      <td>goodbye</td>\n",
       "      <td>goodbye</td>\n",
       "    </tr>\n",
       "    <tr>\n",
       "      <th>4</th>\n",
       "      <td>2000</td>\n",
       "      <td>9013</td>\n",
       "      <td>11</td>\n",
       "      <td>hello</td>\n",
       "      <td>goodbye</td>\n",
       "      <td>goodbye</td>\n",
       "    </tr>\n",
       "    <tr>\n",
       "      <th>5</th>\n",
       "      <td>2000</td>\n",
       "      <td>9024</td>\n",
       "      <td>11</td>\n",
       "      <td>hello</td>\n",
       "      <td>goodbye</td>\n",
       "      <td>goodbye</td>\n",
       "    </tr>\n",
       "    <tr>\n",
       "      <th>6</th>\n",
       "      <td>2000</td>\n",
       "      <td>9035</td>\n",
       "      <td>11</td>\n",
       "      <td>hello</td>\n",
       "      <td>goodbye</td>\n",
       "      <td>goodbye</td>\n",
       "    </tr>\n",
       "    <tr>\n",
       "      <th>7</th>\n",
       "      <td>2000</td>\n",
       "      <td>9046</td>\n",
       "      <td>11</td>\n",
       "      <td>hello</td>\n",
       "      <td>goodbye</td>\n",
       "      <td>goodbye</td>\n",
       "    </tr>\n",
       "    <tr>\n",
       "      <th>8</th>\n",
       "      <td>2000</td>\n",
       "      <td>9047</td>\n",
       "      <td>11</td>\n",
       "      <td>hello</td>\n",
       "      <td>goodbye</td>\n",
       "      <td>goodbye</td>\n",
       "    </tr>\n",
       "    <tr>\n",
       "      <th>9</th>\n",
       "      <td>2000</td>\n",
       "      <td>9048</td>\n",
       "      <td>11</td>\n",
       "      <td>hello</td>\n",
       "      <td>goodbye</td>\n",
       "      <td>goodbye</td>\n",
       "    </tr>\n",
       "    <tr>\n",
       "      <th>10</th>\n",
       "      <td>2000</td>\n",
       "      <td>9059</td>\n",
       "      <td>11</td>\n",
       "      <td>hello</td>\n",
       "      <td>goodbye</td>\n",
       "      <td>goodbye</td>\n",
       "    </tr>\n",
       "    <tr>\n",
       "      <th>11</th>\n",
       "      <td>2000</td>\n",
       "      <td>5716</td>\n",
       "      <td>6</td>\n",
       "      <td>hello</td>\n",
       "      <td>goodbye</td>\n",
       "      <td>goodbye</td>\n",
       "    </tr>\n",
       "    <tr>\n",
       "      <th>12</th>\n",
       "      <td>2000</td>\n",
       "      <td>5716</td>\n",
       "      <td>6</td>\n",
       "      <td>hello</td>\n",
       "      <td>goodbye</td>\n",
       "      <td>goodbye</td>\n",
       "    </tr>\n",
       "    <tr>\n",
       "      <th>13</th>\n",
       "      <td>2000</td>\n",
       "      <td>5716</td>\n",
       "      <td>8</td>\n",
       "      <td>hello</td>\n",
       "      <td>goodbye</td>\n",
       "      <td>goodbye</td>\n",
       "    </tr>\n",
       "    <tr>\n",
       "      <th>14</th>\n",
       "      <td>2000</td>\n",
       "      <td>5717</td>\n",
       "      <td>9</td>\n",
       "      <td>hello</td>\n",
       "      <td>goodbye</td>\n",
       "      <td>goodbye</td>\n",
       "    </tr>\n",
       "    <tr>\n",
       "      <th>15</th>\n",
       "      <td>2000</td>\n",
       "      <td>5720</td>\n",
       "      <td>9</td>\n",
       "      <td>hello</td>\n",
       "      <td>goodbye</td>\n",
       "      <td>goodbye</td>\n",
       "    </tr>\n",
       "    <tr>\n",
       "      <th>16</th>\n",
       "      <td>2000</td>\n",
       "      <td>61932</td>\n",
       "      <td>61</td>\n",
       "      <td>hello</td>\n",
       "      <td>goodbye</td>\n",
       "      <td>goodbye</td>\n",
       "    </tr>\n",
       "    <tr>\n",
       "      <th>17</th>\n",
       "      <td>2000</td>\n",
       "      <td>61932</td>\n",
       "      <td>61</td>\n",
       "      <td>hello</td>\n",
       "      <td>goodbye</td>\n",
       "      <td>goodbye</td>\n",
       "    </tr>\n",
       "    <tr>\n",
       "      <th>18</th>\n",
       "      <td>2000</td>\n",
       "      <td>61932</td>\n",
       "      <td>61</td>\n",
       "      <td>hello</td>\n",
       "      <td>goodbye</td>\n",
       "      <td>goodbye</td>\n",
       "    </tr>\n",
       "    <tr>\n",
       "      <th>19</th>\n",
       "      <td>2000</td>\n",
       "      <td>61932</td>\n",
       "      <td>61</td>\n",
       "      <td>hello</td>\n",
       "      <td>goodbye</td>\n",
       "      <td>goodbye</td>\n",
       "    </tr>\n",
       "    <tr>\n",
       "      <th>20</th>\n",
       "      <td>2000</td>\n",
       "      <td>61932</td>\n",
       "      <td>61</td>\n",
       "      <td>hello</td>\n",
       "      <td>goodbye</td>\n",
       "      <td>goodbye</td>\n",
       "    </tr>\n",
       "  </tbody>\n",
       "</table>\n",
       "</div>"
      ],
      "text/plain": [
       "      h1     h2  h3 hellos  goodbye goodbyes\n",
       "0   2000   9099  12  hello  goodbye  goodbye\n",
       "1   2000   9010  11  hello  goodbye  goodbye\n",
       "2   2000   9011  11  hello  goodbye  goodbye\n",
       "3   2000   9012  11  hello  goodbye  goodbye\n",
       "4   2000   9013  11  hello  goodbye  goodbye\n",
       "5   2000   9024  11  hello  goodbye  goodbye\n",
       "6   2000   9035  11  hello  goodbye  goodbye\n",
       "7   2000   9046  11  hello  goodbye  goodbye\n",
       "8   2000   9047  11  hello  goodbye  goodbye\n",
       "9   2000   9048  11  hello  goodbye  goodbye\n",
       "10  2000   9059  11  hello  goodbye  goodbye\n",
       "11  2000   5716   6  hello  goodbye  goodbye\n",
       "12  2000   5716   6  hello  goodbye  goodbye\n",
       "13  2000   5716   8  hello  goodbye  goodbye\n",
       "14  2000   5717   9  hello  goodbye  goodbye\n",
       "15  2000   5720   9  hello  goodbye  goodbye\n",
       "16  2000  61932  61  hello  goodbye  goodbye\n",
       "17  2000  61932  61  hello  goodbye  goodbye\n",
       "18  2000  61932  61  hello  goodbye  goodbye\n",
       "19  2000  61932  61  hello  goodbye  goodbye\n",
       "20  2000  61932  61  hello  goodbye  goodbye"
      ]
     },
     "execution_count": 79,
     "metadata": {},
     "output_type": "execute_result"
    }
   ],
   "source": [
    "X"
   ]
  },
  {
   "cell_type": "code",
   "execution_count": 81,
   "metadata": {},
   "outputs": [
    {
     "data": {
      "text/html": [
       "<div>\n",
       "<style scoped>\n",
       "    .dataframe tbody tr th:only-of-type {\n",
       "        vertical-align: middle;\n",
       "    }\n",
       "\n",
       "    .dataframe tbody tr th {\n",
       "        vertical-align: top;\n",
       "    }\n",
       "\n",
       "    .dataframe thead th {\n",
       "        text-align: right;\n",
       "    }\n",
       "</style>\n",
       "<table border=\"1\" class=\"dataframe\">\n",
       "  <thead>\n",
       "    <tr style=\"text-align: right;\">\n",
       "      <th></th>\n",
       "      <th>h1</th>\n",
       "      <th>h2</th>\n",
       "      <th>h3</th>\n",
       "      <th>hellos</th>\n",
       "      <th>goodbye</th>\n",
       "      <th>goodbyes</th>\n",
       "    </tr>\n",
       "  </thead>\n",
       "  <tbody>\n",
       "    <tr>\n",
       "      <th>0</th>\n",
       "      <td>2000</td>\n",
       "      <td>9099</td>\n",
       "      <td>12</td>\n",
       "      <td>hello</td>\n",
       "      <td>goodbye</td>\n",
       "      <td>goodbye</td>\n",
       "    </tr>\n",
       "    <tr>\n",
       "      <th>1</th>\n",
       "      <td>2000</td>\n",
       "      <td>9010</td>\n",
       "      <td>11</td>\n",
       "      <td>hello</td>\n",
       "      <td>goodbye</td>\n",
       "      <td>goodbye</td>\n",
       "    </tr>\n",
       "    <tr>\n",
       "      <th>2</th>\n",
       "      <td>2000</td>\n",
       "      <td>9011</td>\n",
       "      <td>11</td>\n",
       "      <td>hello</td>\n",
       "      <td>goodbye</td>\n",
       "      <td>goodbye</td>\n",
       "    </tr>\n",
       "    <tr>\n",
       "      <th>3</th>\n",
       "      <td>2000</td>\n",
       "      <td>9012</td>\n",
       "      <td>11</td>\n",
       "      <td>hello</td>\n",
       "      <td>goodbye</td>\n",
       "      <td>goodbye</td>\n",
       "    </tr>\n",
       "    <tr>\n",
       "      <th>4</th>\n",
       "      <td>2000</td>\n",
       "      <td>9013</td>\n",
       "      <td>11</td>\n",
       "      <td>hello</td>\n",
       "      <td>goodbye</td>\n",
       "      <td>goodbye</td>\n",
       "    </tr>\n",
       "  </tbody>\n",
       "</table>\n",
       "</div>"
      ],
      "text/plain": [
       "     h1    h2  h3 hellos  goodbye goodbyes\n",
       "0  2000  9099  12  hello  goodbye  goodbye\n",
       "1  2000  9010  11  hello  goodbye  goodbye\n",
       "2  2000  9011  11  hello  goodbye  goodbye\n",
       "3  2000  9012  11  hello  goodbye  goodbye\n",
       "4  2000  9013  11  hello  goodbye  goodbye"
      ]
     },
     "execution_count": 81,
     "metadata": {},
     "output_type": "execute_result"
    }
   ],
   "source": [
    "X.head()"
   ]
  },
  {
   "cell_type": "markdown",
   "metadata": {},
   "source": [
    "# Importing data with header "
   ]
  },
  {
   "cell_type": "code",
   "execution_count": 104,
   "metadata": {},
   "outputs": [],
   "source": [
    "Y = pd.read_csv(\"data_1.csv\", engine = \"python\", skipfooter =2) # skips the last two rows "
   ]
  },
  {
   "cell_type": "code",
   "execution_count": 105,
   "metadata": {},
   "outputs": [
    {
     "data": {
      "text/html": [
       "<div>\n",
       "<style scoped>\n",
       "    .dataframe tbody tr th:only-of-type {\n",
       "        vertical-align: middle;\n",
       "    }\n",
       "\n",
       "    .dataframe tbody tr th {\n",
       "        vertical-align: top;\n",
       "    }\n",
       "\n",
       "    .dataframe thead th {\n",
       "        text-align: right;\n",
       "    }\n",
       "</style>\n",
       "<table border=\"1\" class=\"dataframe\">\n",
       "  <thead>\n",
       "    <tr style=\"text-align: right;\">\n",
       "      <th></th>\n",
       "      <th>YEAR</th>\n",
       "      <th>TIME</th>\n",
       "      <th>MONTH</th>\n",
       "    </tr>\n",
       "  </thead>\n",
       "  <tbody>\n",
       "    <tr>\n",
       "      <th>0</th>\n",
       "      <td>2000</td>\n",
       "      <td>9099</td>\n",
       "      <td>12</td>\n",
       "    </tr>\n",
       "    <tr>\n",
       "      <th>1</th>\n",
       "      <td>2000</td>\n",
       "      <td>9010</td>\n",
       "      <td>11</td>\n",
       "    </tr>\n",
       "    <tr>\n",
       "      <th>2</th>\n",
       "      <td>2000</td>\n",
       "      <td>9011</td>\n",
       "      <td>11</td>\n",
       "    </tr>\n",
       "    <tr>\n",
       "      <th>3</th>\n",
       "      <td>2000</td>\n",
       "      <td>9012</td>\n",
       "      <td>11</td>\n",
       "    </tr>\n",
       "    <tr>\n",
       "      <th>4</th>\n",
       "      <td>2000</td>\n",
       "      <td>9013</td>\n",
       "      <td>11</td>\n",
       "    </tr>\n",
       "    <tr>\n",
       "      <th>5</th>\n",
       "      <td>2000</td>\n",
       "      <td>9024</td>\n",
       "      <td>11</td>\n",
       "    </tr>\n",
       "    <tr>\n",
       "      <th>6</th>\n",
       "      <td>2000</td>\n",
       "      <td>9035</td>\n",
       "      <td>11</td>\n",
       "    </tr>\n",
       "    <tr>\n",
       "      <th>7</th>\n",
       "      <td>2000</td>\n",
       "      <td>9046</td>\n",
       "      <td>11</td>\n",
       "    </tr>\n",
       "    <tr>\n",
       "      <th>8</th>\n",
       "      <td>2000</td>\n",
       "      <td>9047</td>\n",
       "      <td>11</td>\n",
       "    </tr>\n",
       "    <tr>\n",
       "      <th>9</th>\n",
       "      <td>2000</td>\n",
       "      <td>9048</td>\n",
       "      <td>11</td>\n",
       "    </tr>\n",
       "    <tr>\n",
       "      <th>10</th>\n",
       "      <td>2000</td>\n",
       "      <td>9059</td>\n",
       "      <td>11</td>\n",
       "    </tr>\n",
       "    <tr>\n",
       "      <th>11</th>\n",
       "      <td>2000</td>\n",
       "      <td>5716</td>\n",
       "      <td>6</td>\n",
       "    </tr>\n",
       "    <tr>\n",
       "      <th>12</th>\n",
       "      <td>2000</td>\n",
       "      <td>5716</td>\n",
       "      <td>6</td>\n",
       "    </tr>\n",
       "    <tr>\n",
       "      <th>13</th>\n",
       "      <td>2000</td>\n",
       "      <td>5716</td>\n",
       "      <td>8</td>\n",
       "    </tr>\n",
       "    <tr>\n",
       "      <th>14</th>\n",
       "      <td>2000</td>\n",
       "      <td>5717</td>\n",
       "      <td>9</td>\n",
       "    </tr>\n",
       "    <tr>\n",
       "      <th>15</th>\n",
       "      <td>2000</td>\n",
       "      <td>5720</td>\n",
       "      <td>9</td>\n",
       "    </tr>\n",
       "    <tr>\n",
       "      <th>16</th>\n",
       "      <td>2000</td>\n",
       "      <td>61932</td>\n",
       "      <td>7</td>\n",
       "    </tr>\n",
       "    <tr>\n",
       "      <th>17</th>\n",
       "      <td>2000</td>\n",
       "      <td>61932</td>\n",
       "      <td>7</td>\n",
       "    </tr>\n",
       "    <tr>\n",
       "      <th>18</th>\n",
       "      <td>2000</td>\n",
       "      <td>61932</td>\n",
       "      <td>7</td>\n",
       "    </tr>\n",
       "  </tbody>\n",
       "</table>\n",
       "</div>"
      ],
      "text/plain": [
       "    YEAR   TIME  MONTH\n",
       "0   2000   9099     12\n",
       "1   2000   9010     11\n",
       "2   2000   9011     11\n",
       "3   2000   9012     11\n",
       "4   2000   9013     11\n",
       "5   2000   9024     11\n",
       "6   2000   9035     11\n",
       "7   2000   9046     11\n",
       "8   2000   9047     11\n",
       "9   2000   9048     11\n",
       "10  2000   9059     11\n",
       "11  2000   5716      6\n",
       "12  2000   5716      6\n",
       "13  2000   5716      8\n",
       "14  2000   5717      9\n",
       "15  2000   5720      9\n",
       "16  2000  61932      7\n",
       "17  2000  61932      7\n",
       "18  2000  61932      7"
      ]
     },
     "execution_count": 105,
     "metadata": {},
     "output_type": "execute_result"
    }
   ],
   "source": [
    "Y"
   ]
  },
  {
   "cell_type": "code",
   "execution_count": 88,
   "metadata": {},
   "outputs": [],
   "source": [
    "from datetime import datetime"
   ]
  },
  {
   "cell_type": "code",
   "execution_count": 92,
   "metadata": {},
   "outputs": [
    {
     "data": {
      "text/plain": [
       "datetime.datetime(1999, 9, 22, 0, 0)"
      ]
     },
     "execution_count": 92,
     "metadata": {},
     "output_type": "execute_result"
    }
   ],
   "source": [
    "# test datetime function\n",
    "datetime.strptime(\"1999-09-22\",\"%Y-%m-%d\")"
   ]
  },
  {
   "cell_type": "code",
   "execution_count": 94,
   "metadata": {},
   "outputs": [],
   "source": [
    "Y[\"time_year\"] = Y.apply(lambda row: row[\"YEAR\"], axis = 1)"
   ]
  },
  {
   "cell_type": "code",
   "execution_count": 95,
   "metadata": {},
   "outputs": [
    {
     "data": {
      "text/html": [
       "<div>\n",
       "<style scoped>\n",
       "    .dataframe tbody tr th:only-of-type {\n",
       "        vertical-align: middle;\n",
       "    }\n",
       "\n",
       "    .dataframe tbody tr th {\n",
       "        vertical-align: top;\n",
       "    }\n",
       "\n",
       "    .dataframe thead th {\n",
       "        text-align: right;\n",
       "    }\n",
       "</style>\n",
       "<table border=\"1\" class=\"dataframe\">\n",
       "  <thead>\n",
       "    <tr style=\"text-align: right;\">\n",
       "      <th></th>\n",
       "      <th>YEAR</th>\n",
       "      <th>TIME</th>\n",
       "      <th>MONTH</th>\n",
       "      <th>time_year</th>\n",
       "    </tr>\n",
       "  </thead>\n",
       "  <tbody>\n",
       "    <tr>\n",
       "      <th>0</th>\n",
       "      <td>2000</td>\n",
       "      <td>9099</td>\n",
       "      <td>12</td>\n",
       "      <td>2000</td>\n",
       "    </tr>\n",
       "    <tr>\n",
       "      <th>1</th>\n",
       "      <td>2000</td>\n",
       "      <td>9010</td>\n",
       "      <td>11</td>\n",
       "      <td>2000</td>\n",
       "    </tr>\n",
       "    <tr>\n",
       "      <th>2</th>\n",
       "      <td>2000</td>\n",
       "      <td>9011</td>\n",
       "      <td>11</td>\n",
       "      <td>2000</td>\n",
       "    </tr>\n",
       "    <tr>\n",
       "      <th>3</th>\n",
       "      <td>2000</td>\n",
       "      <td>9012</td>\n",
       "      <td>11</td>\n",
       "      <td>2000</td>\n",
       "    </tr>\n",
       "    <tr>\n",
       "      <th>4</th>\n",
       "      <td>2000</td>\n",
       "      <td>9013</td>\n",
       "      <td>11</td>\n",
       "      <td>2000</td>\n",
       "    </tr>\n",
       "    <tr>\n",
       "      <th>5</th>\n",
       "      <td>2000</td>\n",
       "      <td>9024</td>\n",
       "      <td>11</td>\n",
       "      <td>2000</td>\n",
       "    </tr>\n",
       "    <tr>\n",
       "      <th>6</th>\n",
       "      <td>2000</td>\n",
       "      <td>9035</td>\n",
       "      <td>11</td>\n",
       "      <td>2000</td>\n",
       "    </tr>\n",
       "    <tr>\n",
       "      <th>7</th>\n",
       "      <td>2000</td>\n",
       "      <td>9046</td>\n",
       "      <td>11</td>\n",
       "      <td>2000</td>\n",
       "    </tr>\n",
       "    <tr>\n",
       "      <th>8</th>\n",
       "      <td>2000</td>\n",
       "      <td>9047</td>\n",
       "      <td>11</td>\n",
       "      <td>2000</td>\n",
       "    </tr>\n",
       "    <tr>\n",
       "      <th>9</th>\n",
       "      <td>2000</td>\n",
       "      <td>9048</td>\n",
       "      <td>11</td>\n",
       "      <td>2000</td>\n",
       "    </tr>\n",
       "    <tr>\n",
       "      <th>10</th>\n",
       "      <td>2000</td>\n",
       "      <td>9059</td>\n",
       "      <td>11</td>\n",
       "      <td>2000</td>\n",
       "    </tr>\n",
       "    <tr>\n",
       "      <th>11</th>\n",
       "      <td>2000</td>\n",
       "      <td>5716</td>\n",
       "      <td>6</td>\n",
       "      <td>2000</td>\n",
       "    </tr>\n",
       "    <tr>\n",
       "      <th>12</th>\n",
       "      <td>2000</td>\n",
       "      <td>5716</td>\n",
       "      <td>6</td>\n",
       "      <td>2000</td>\n",
       "    </tr>\n",
       "    <tr>\n",
       "      <th>13</th>\n",
       "      <td>2000</td>\n",
       "      <td>5716</td>\n",
       "      <td>8</td>\n",
       "      <td>2000</td>\n",
       "    </tr>\n",
       "    <tr>\n",
       "      <th>14</th>\n",
       "      <td>2000</td>\n",
       "      <td>5717</td>\n",
       "      <td>9</td>\n",
       "      <td>2000</td>\n",
       "    </tr>\n",
       "    <tr>\n",
       "      <th>15</th>\n",
       "      <td>2000</td>\n",
       "      <td>5720</td>\n",
       "      <td>9</td>\n",
       "      <td>2000</td>\n",
       "    </tr>\n",
       "    <tr>\n",
       "      <th>16</th>\n",
       "      <td>2000</td>\n",
       "      <td>61932</td>\n",
       "      <td>61</td>\n",
       "      <td>2000</td>\n",
       "    </tr>\n",
       "    <tr>\n",
       "      <th>17</th>\n",
       "      <td>2000</td>\n",
       "      <td>61932</td>\n",
       "      <td>61</td>\n",
       "      <td>2000</td>\n",
       "    </tr>\n",
       "    <tr>\n",
       "      <th>18</th>\n",
       "      <td>2000</td>\n",
       "      <td>61932</td>\n",
       "      <td>61</td>\n",
       "      <td>2000</td>\n",
       "    </tr>\n",
       "  </tbody>\n",
       "</table>\n",
       "</div>"
      ],
      "text/plain": [
       "    YEAR   TIME  MONTH  time_year\n",
       "0   2000   9099     12       2000\n",
       "1   2000   9010     11       2000\n",
       "2   2000   9011     11       2000\n",
       "3   2000   9012     11       2000\n",
       "4   2000   9013     11       2000\n",
       "5   2000   9024     11       2000\n",
       "6   2000   9035     11       2000\n",
       "7   2000   9046     11       2000\n",
       "8   2000   9047     11       2000\n",
       "9   2000   9048     11       2000\n",
       "10  2000   9059     11       2000\n",
       "11  2000   5716      6       2000\n",
       "12  2000   5716      6       2000\n",
       "13  2000   5716      8       2000\n",
       "14  2000   5717      9       2000\n",
       "15  2000   5720      9       2000\n",
       "16  2000  61932     61       2000\n",
       "17  2000  61932     61       2000\n",
       "18  2000  61932     61       2000"
      ]
     },
     "execution_count": 95,
     "metadata": {},
     "output_type": "execute_result"
    }
   ],
   "source": [
    "Y"
   ]
  },
  {
   "cell_type": "code",
   "execution_count": 106,
   "metadata": {},
   "outputs": [],
   "source": [
    "Y[\"time_year\"] = Y[[\"YEAR\", \"MONTH\"]].apply(lambda row: \"-\".join(row.astype(str)), axis = 1)"
   ]
  },
  {
   "cell_type": "code",
   "execution_count": 107,
   "metadata": {},
   "outputs": [
    {
     "data": {
      "text/html": [
       "<div>\n",
       "<style scoped>\n",
       "    .dataframe tbody tr th:only-of-type {\n",
       "        vertical-align: middle;\n",
       "    }\n",
       "\n",
       "    .dataframe tbody tr th {\n",
       "        vertical-align: top;\n",
       "    }\n",
       "\n",
       "    .dataframe thead th {\n",
       "        text-align: right;\n",
       "    }\n",
       "</style>\n",
       "<table border=\"1\" class=\"dataframe\">\n",
       "  <thead>\n",
       "    <tr style=\"text-align: right;\">\n",
       "      <th></th>\n",
       "      <th>YEAR</th>\n",
       "      <th>TIME</th>\n",
       "      <th>MONTH</th>\n",
       "      <th>time_year</th>\n",
       "    </tr>\n",
       "  </thead>\n",
       "  <tbody>\n",
       "    <tr>\n",
       "      <th>0</th>\n",
       "      <td>2000</td>\n",
       "      <td>9099</td>\n",
       "      <td>12</td>\n",
       "      <td>2000-12</td>\n",
       "    </tr>\n",
       "    <tr>\n",
       "      <th>1</th>\n",
       "      <td>2000</td>\n",
       "      <td>9010</td>\n",
       "      <td>11</td>\n",
       "      <td>2000-11</td>\n",
       "    </tr>\n",
       "    <tr>\n",
       "      <th>2</th>\n",
       "      <td>2000</td>\n",
       "      <td>9011</td>\n",
       "      <td>11</td>\n",
       "      <td>2000-11</td>\n",
       "    </tr>\n",
       "    <tr>\n",
       "      <th>3</th>\n",
       "      <td>2000</td>\n",
       "      <td>9012</td>\n",
       "      <td>11</td>\n",
       "      <td>2000-11</td>\n",
       "    </tr>\n",
       "    <tr>\n",
       "      <th>4</th>\n",
       "      <td>2000</td>\n",
       "      <td>9013</td>\n",
       "      <td>11</td>\n",
       "      <td>2000-11</td>\n",
       "    </tr>\n",
       "    <tr>\n",
       "      <th>5</th>\n",
       "      <td>2000</td>\n",
       "      <td>9024</td>\n",
       "      <td>11</td>\n",
       "      <td>2000-11</td>\n",
       "    </tr>\n",
       "    <tr>\n",
       "      <th>6</th>\n",
       "      <td>2000</td>\n",
       "      <td>9035</td>\n",
       "      <td>11</td>\n",
       "      <td>2000-11</td>\n",
       "    </tr>\n",
       "    <tr>\n",
       "      <th>7</th>\n",
       "      <td>2000</td>\n",
       "      <td>9046</td>\n",
       "      <td>11</td>\n",
       "      <td>2000-11</td>\n",
       "    </tr>\n",
       "    <tr>\n",
       "      <th>8</th>\n",
       "      <td>2000</td>\n",
       "      <td>9047</td>\n",
       "      <td>11</td>\n",
       "      <td>2000-11</td>\n",
       "    </tr>\n",
       "    <tr>\n",
       "      <th>9</th>\n",
       "      <td>2000</td>\n",
       "      <td>9048</td>\n",
       "      <td>11</td>\n",
       "      <td>2000-11</td>\n",
       "    </tr>\n",
       "    <tr>\n",
       "      <th>10</th>\n",
       "      <td>2000</td>\n",
       "      <td>9059</td>\n",
       "      <td>11</td>\n",
       "      <td>2000-11</td>\n",
       "    </tr>\n",
       "    <tr>\n",
       "      <th>11</th>\n",
       "      <td>2000</td>\n",
       "      <td>5716</td>\n",
       "      <td>6</td>\n",
       "      <td>2000-6</td>\n",
       "    </tr>\n",
       "    <tr>\n",
       "      <th>12</th>\n",
       "      <td>2000</td>\n",
       "      <td>5716</td>\n",
       "      <td>6</td>\n",
       "      <td>2000-6</td>\n",
       "    </tr>\n",
       "    <tr>\n",
       "      <th>13</th>\n",
       "      <td>2000</td>\n",
       "      <td>5716</td>\n",
       "      <td>8</td>\n",
       "      <td>2000-8</td>\n",
       "    </tr>\n",
       "    <tr>\n",
       "      <th>14</th>\n",
       "      <td>2000</td>\n",
       "      <td>5717</td>\n",
       "      <td>9</td>\n",
       "      <td>2000-9</td>\n",
       "    </tr>\n",
       "    <tr>\n",
       "      <th>15</th>\n",
       "      <td>2000</td>\n",
       "      <td>5720</td>\n",
       "      <td>9</td>\n",
       "      <td>2000-9</td>\n",
       "    </tr>\n",
       "    <tr>\n",
       "      <th>16</th>\n",
       "      <td>2000</td>\n",
       "      <td>61932</td>\n",
       "      <td>7</td>\n",
       "      <td>2000-7</td>\n",
       "    </tr>\n",
       "    <tr>\n",
       "      <th>17</th>\n",
       "      <td>2000</td>\n",
       "      <td>61932</td>\n",
       "      <td>7</td>\n",
       "      <td>2000-7</td>\n",
       "    </tr>\n",
       "    <tr>\n",
       "      <th>18</th>\n",
       "      <td>2000</td>\n",
       "      <td>61932</td>\n",
       "      <td>7</td>\n",
       "      <td>2000-7</td>\n",
       "    </tr>\n",
       "  </tbody>\n",
       "</table>\n",
       "</div>"
      ],
      "text/plain": [
       "    YEAR   TIME  MONTH time_year\n",
       "0   2000   9099     12   2000-12\n",
       "1   2000   9010     11   2000-11\n",
       "2   2000   9011     11   2000-11\n",
       "3   2000   9012     11   2000-11\n",
       "4   2000   9013     11   2000-11\n",
       "5   2000   9024     11   2000-11\n",
       "6   2000   9035     11   2000-11\n",
       "7   2000   9046     11   2000-11\n",
       "8   2000   9047     11   2000-11\n",
       "9   2000   9048     11   2000-11\n",
       "10  2000   9059     11   2000-11\n",
       "11  2000   5716      6    2000-6\n",
       "12  2000   5716      6    2000-6\n",
       "13  2000   5716      8    2000-8\n",
       "14  2000   5717      9    2000-9\n",
       "15  2000   5720      9    2000-9\n",
       "16  2000  61932      7    2000-7\n",
       "17  2000  61932      7    2000-7\n",
       "18  2000  61932      7    2000-7"
      ]
     },
     "execution_count": 107,
     "metadata": {},
     "output_type": "execute_result"
    }
   ],
   "source": [
    "Y"
   ]
  },
  {
   "cell_type": "code",
   "execution_count": 111,
   "metadata": {},
   "outputs": [],
   "source": [
    "Y[\"date\"] = Y.apply(lambda row: datetime.strptime(row[\"time_year\"], \"%Y-%m\"), axis = 1) # axis = 1 gives row"
   ]
  },
  {
   "cell_type": "code",
   "execution_count": 112,
   "metadata": {},
   "outputs": [
    {
     "data": {
      "text/html": [
       "<div>\n",
       "<style scoped>\n",
       "    .dataframe tbody tr th:only-of-type {\n",
       "        vertical-align: middle;\n",
       "    }\n",
       "\n",
       "    .dataframe tbody tr th {\n",
       "        vertical-align: top;\n",
       "    }\n",
       "\n",
       "    .dataframe thead th {\n",
       "        text-align: right;\n",
       "    }\n",
       "</style>\n",
       "<table border=\"1\" class=\"dataframe\">\n",
       "  <thead>\n",
       "    <tr style=\"text-align: right;\">\n",
       "      <th></th>\n",
       "      <th>YEAR</th>\n",
       "      <th>TIME</th>\n",
       "      <th>MONTH</th>\n",
       "      <th>time_year</th>\n",
       "      <th>separate</th>\n",
       "      <th>date</th>\n",
       "    </tr>\n",
       "  </thead>\n",
       "  <tbody>\n",
       "    <tr>\n",
       "      <th>0</th>\n",
       "      <td>2000</td>\n",
       "      <td>9099</td>\n",
       "      <td>12</td>\n",
       "      <td>2000-12</td>\n",
       "      <td>2000-12-01</td>\n",
       "      <td>2000-12-01</td>\n",
       "    </tr>\n",
       "    <tr>\n",
       "      <th>1</th>\n",
       "      <td>2000</td>\n",
       "      <td>9010</td>\n",
       "      <td>11</td>\n",
       "      <td>2000-11</td>\n",
       "      <td>2000-11-01</td>\n",
       "      <td>2000-11-01</td>\n",
       "    </tr>\n",
       "    <tr>\n",
       "      <th>2</th>\n",
       "      <td>2000</td>\n",
       "      <td>9011</td>\n",
       "      <td>11</td>\n",
       "      <td>2000-11</td>\n",
       "      <td>2000-11-01</td>\n",
       "      <td>2000-11-01</td>\n",
       "    </tr>\n",
       "    <tr>\n",
       "      <th>3</th>\n",
       "      <td>2000</td>\n",
       "      <td>9012</td>\n",
       "      <td>11</td>\n",
       "      <td>2000-11</td>\n",
       "      <td>2000-11-01</td>\n",
       "      <td>2000-11-01</td>\n",
       "    </tr>\n",
       "    <tr>\n",
       "      <th>4</th>\n",
       "      <td>2000</td>\n",
       "      <td>9013</td>\n",
       "      <td>11</td>\n",
       "      <td>2000-11</td>\n",
       "      <td>2000-11-01</td>\n",
       "      <td>2000-11-01</td>\n",
       "    </tr>\n",
       "    <tr>\n",
       "      <th>5</th>\n",
       "      <td>2000</td>\n",
       "      <td>9024</td>\n",
       "      <td>11</td>\n",
       "      <td>2000-11</td>\n",
       "      <td>2000-11-01</td>\n",
       "      <td>2000-11-01</td>\n",
       "    </tr>\n",
       "    <tr>\n",
       "      <th>6</th>\n",
       "      <td>2000</td>\n",
       "      <td>9035</td>\n",
       "      <td>11</td>\n",
       "      <td>2000-11</td>\n",
       "      <td>2000-11-01</td>\n",
       "      <td>2000-11-01</td>\n",
       "    </tr>\n",
       "    <tr>\n",
       "      <th>7</th>\n",
       "      <td>2000</td>\n",
       "      <td>9046</td>\n",
       "      <td>11</td>\n",
       "      <td>2000-11</td>\n",
       "      <td>2000-11-01</td>\n",
       "      <td>2000-11-01</td>\n",
       "    </tr>\n",
       "    <tr>\n",
       "      <th>8</th>\n",
       "      <td>2000</td>\n",
       "      <td>9047</td>\n",
       "      <td>11</td>\n",
       "      <td>2000-11</td>\n",
       "      <td>2000-11-01</td>\n",
       "      <td>2000-11-01</td>\n",
       "    </tr>\n",
       "    <tr>\n",
       "      <th>9</th>\n",
       "      <td>2000</td>\n",
       "      <td>9048</td>\n",
       "      <td>11</td>\n",
       "      <td>2000-11</td>\n",
       "      <td>2000-11-01</td>\n",
       "      <td>2000-11-01</td>\n",
       "    </tr>\n",
       "    <tr>\n",
       "      <th>10</th>\n",
       "      <td>2000</td>\n",
       "      <td>9059</td>\n",
       "      <td>11</td>\n",
       "      <td>2000-11</td>\n",
       "      <td>2000-11-01</td>\n",
       "      <td>2000-11-01</td>\n",
       "    </tr>\n",
       "    <tr>\n",
       "      <th>11</th>\n",
       "      <td>2000</td>\n",
       "      <td>5716</td>\n",
       "      <td>6</td>\n",
       "      <td>2000-6</td>\n",
       "      <td>2000-06-01</td>\n",
       "      <td>2000-06-01</td>\n",
       "    </tr>\n",
       "    <tr>\n",
       "      <th>12</th>\n",
       "      <td>2000</td>\n",
       "      <td>5716</td>\n",
       "      <td>6</td>\n",
       "      <td>2000-6</td>\n",
       "      <td>2000-06-01</td>\n",
       "      <td>2000-06-01</td>\n",
       "    </tr>\n",
       "    <tr>\n",
       "      <th>13</th>\n",
       "      <td>2000</td>\n",
       "      <td>5716</td>\n",
       "      <td>8</td>\n",
       "      <td>2000-8</td>\n",
       "      <td>2000-08-01</td>\n",
       "      <td>2000-08-01</td>\n",
       "    </tr>\n",
       "    <tr>\n",
       "      <th>14</th>\n",
       "      <td>2000</td>\n",
       "      <td>5717</td>\n",
       "      <td>9</td>\n",
       "      <td>2000-9</td>\n",
       "      <td>2000-09-01</td>\n",
       "      <td>2000-09-01</td>\n",
       "    </tr>\n",
       "    <tr>\n",
       "      <th>15</th>\n",
       "      <td>2000</td>\n",
       "      <td>5720</td>\n",
       "      <td>9</td>\n",
       "      <td>2000-9</td>\n",
       "      <td>2000-09-01</td>\n",
       "      <td>2000-09-01</td>\n",
       "    </tr>\n",
       "    <tr>\n",
       "      <th>16</th>\n",
       "      <td>2000</td>\n",
       "      <td>61932</td>\n",
       "      <td>7</td>\n",
       "      <td>2000-7</td>\n",
       "      <td>2000-07-01</td>\n",
       "      <td>2000-07-01</td>\n",
       "    </tr>\n",
       "    <tr>\n",
       "      <th>17</th>\n",
       "      <td>2000</td>\n",
       "      <td>61932</td>\n",
       "      <td>7</td>\n",
       "      <td>2000-7</td>\n",
       "      <td>2000-07-01</td>\n",
       "      <td>2000-07-01</td>\n",
       "    </tr>\n",
       "    <tr>\n",
       "      <th>18</th>\n",
       "      <td>2000</td>\n",
       "      <td>61932</td>\n",
       "      <td>7</td>\n",
       "      <td>2000-7</td>\n",
       "      <td>2000-07-01</td>\n",
       "      <td>2000-07-01</td>\n",
       "    </tr>\n",
       "  </tbody>\n",
       "</table>\n",
       "</div>"
      ],
      "text/plain": [
       "    YEAR   TIME  MONTH time_year   separate       date\n",
       "0   2000   9099     12   2000-12 2000-12-01 2000-12-01\n",
       "1   2000   9010     11   2000-11 2000-11-01 2000-11-01\n",
       "2   2000   9011     11   2000-11 2000-11-01 2000-11-01\n",
       "3   2000   9012     11   2000-11 2000-11-01 2000-11-01\n",
       "4   2000   9013     11   2000-11 2000-11-01 2000-11-01\n",
       "5   2000   9024     11   2000-11 2000-11-01 2000-11-01\n",
       "6   2000   9035     11   2000-11 2000-11-01 2000-11-01\n",
       "7   2000   9046     11   2000-11 2000-11-01 2000-11-01\n",
       "8   2000   9047     11   2000-11 2000-11-01 2000-11-01\n",
       "9   2000   9048     11   2000-11 2000-11-01 2000-11-01\n",
       "10  2000   9059     11   2000-11 2000-11-01 2000-11-01\n",
       "11  2000   5716      6    2000-6 2000-06-01 2000-06-01\n",
       "12  2000   5716      6    2000-6 2000-06-01 2000-06-01\n",
       "13  2000   5716      8    2000-8 2000-08-01 2000-08-01\n",
       "14  2000   5717      9    2000-9 2000-09-01 2000-09-01\n",
       "15  2000   5720      9    2000-9 2000-09-01 2000-09-01\n",
       "16  2000  61932      7    2000-7 2000-07-01 2000-07-01\n",
       "17  2000  61932      7    2000-7 2000-07-01 2000-07-01\n",
       "18  2000  61932      7    2000-7 2000-07-01 2000-07-01"
      ]
     },
     "execution_count": 112,
     "metadata": {},
     "output_type": "execute_result"
    }
   ],
   "source": [
    "Y"
   ]
  },
  {
   "cell_type": "code",
   "execution_count": 113,
   "metadata": {},
   "outputs": [
    {
     "name": "stdout",
     "output_type": "stream",
     "text": [
      "<class 'pandas.core.frame.DataFrame'>\n",
      "RangeIndex: 19 entries, 0 to 18\n",
      "Data columns (total 6 columns):\n",
      "YEAR         19 non-null int64\n",
      "TIME         19 non-null int64\n",
      "MONTH        19 non-null int64\n",
      "time_year    19 non-null object\n",
      "separate     19 non-null datetime64[ns]\n",
      "date         19 non-null datetime64[ns]\n",
      "dtypes: datetime64[ns](2), int64(3), object(1)\n",
      "memory usage: 992.0+ bytes\n"
     ]
    }
   ],
   "source": [
    "Y.info()"
   ]
  },
  {
   "cell_type": "code",
   "execution_count": null,
   "metadata": {},
   "outputs": [],
   "source": [
    "Y.iloc[()]"
   ]
  }
 ],
 "metadata": {
  "kernelspec": {
   "display_name": "Python 3",
   "language": "python",
   "name": "python3"
  },
  "language_info": {
   "codemirror_mode": {
    "name": "ipython",
    "version": 3
   },
   "file_extension": ".py",
   "mimetype": "text/x-python",
   "name": "python",
   "nbconvert_exporter": "python",
   "pygments_lexer": "ipython3",
   "version": "3.7.2"
  }
 },
 "nbformat": 4,
 "nbformat_minor": 2
}
